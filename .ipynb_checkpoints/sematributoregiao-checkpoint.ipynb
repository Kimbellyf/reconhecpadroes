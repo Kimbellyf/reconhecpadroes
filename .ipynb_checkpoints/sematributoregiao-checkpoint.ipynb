{
 "cells": [
  {
   "cell_type": "code",
   "execution_count": 0,
   "metadata": {
    "colab": {},
    "colab_type": "code",
    "id": "DliDrfq4Xnqs"
   },
   "outputs": [],
   "source": []
  },
  {
   "cell_type": "code",
   "execution_count": null,
   "metadata": {
    "colab": {
     "base_uri": "https://localhost:8080/",
     "height": 201
    },
    "colab_type": "code",
    "id": "Lfs4uDt6X-01",
    "outputId": "7a455528-b5b3-4822-cd87-724309122efa"
   },
   "outputs": [],
   "source": []
  },
  {
   "cell_type": "code",
   "execution_count": 0,
   "metadata": {
    "colab": {},
    "colab_type": "code",
    "id": "DI89n3bxY7Ic"
   },
   "outputs": [],
   "source": [
    "import numpy as np\n",
    "import matplotlib.pyplot as plt\n",
    "import pandas as pd\n",
    "import pickle\n",
    "import pandas as pd\n",
    "from sklearn.model_selection import train_test_split\n",
    "from sklearn.ensemble import RandomForestClassifier\n",
    "import seaborn as sns# Carregando dataset\n",
    "import time\n"
   ]
  },
  {
   "cell_type": "code",
   "execution_count": 0,
   "metadata": {
    "colab": {},
    "colab_type": "code",
    "id": "kNNiqx47tGWo"
   },
   "outputs": [],
   "source": []
  },
  {
   "cell_type": "markdown",
   "metadata": {
    "colab_type": "text",
    "id": "-Qc0uW19k5Ec"
   },
   "source": [
    "Random com região"
   ]
  },
  {
   "cell_type": "code",
   "execution_count": 3,
   "metadata": {
    "colab": {
     "base_uri": "https://localhost:8080/",
     "height": 408
    },
    "colab_type": "code",
    "id": "IVRKUhkBZFAg",
    "outputId": "ab5384e2-1cac-451d-e5a4-c0f4fd5afb95"
   },
   "outputs": [
    {
     "name": "stdout",
     "output_type": "stream",
     "text": [
      "73674\n",
      "(73674, 258)\n",
      "kim\n",
      "194.61\n",
      "(47771, 258)\n"
     ]
    },
    {
     "name": "stderr",
     "output_type": "stream",
     "text": [
      "/usr/local/lib/python3.6/dist-packages/pandas/core/indexing.py:376: SettingWithCopyWarning: \n",
      "A value is trying to be set on a copy of a slice from a DataFrame.\n",
      "Try using .loc[row_indexer,col_indexer] = value instead\n",
      "\n",
      "See the caveats in the documentation: http://pandas.pydata.org/pandas-docs/stable/user_guide/indexing.html#returning-a-view-versus-a-copy\n",
      "  self.obj[key] = _infer_fill_value(value)\n",
      "/usr/local/lib/python3.6/dist-packages/pandas/core/indexing.py:494: SettingWithCopyWarning: \n",
      "A value is trying to be set on a copy of a slice from a DataFrame.\n",
      "Try using .loc[row_indexer,col_indexer] = value instead\n",
      "\n",
      "See the caveats in the documentation: http://pandas.pydata.org/pandas-docs/stable/user_guide/indexing.html#returning-a-view-versus-a-copy\n",
      "  self.obj[item] = s\n"
     ]
    }
   ],
   "source": [
    "data = pd.read_csv(\"./Base/Base_Completa.csv\", sep = ';', encoding = 'iso-8859-1', squeeze = True, low_memory=False)\n",
    "df = data\n",
    "data.shape\n",
    "print(len(df))\n",
    "print(data.shape)\n",
    "print(\"kim\")\n",
    "\n",
    "df = df[df.TAXA_PARTICIPACAO_5EF!=0]\n",
    "\n",
    "q1 = df['MEDIA_TOTAL_5EF'].quantile(q=0.25)\n",
    "print(q1)\n",
    "q4 = df['MEDIA_TOTAL_5EF'].quantile(q=0.75)\n",
    "\n",
    "\n",
    "df1Q = df[df['MEDIA_TOTAL_5EF']<q1]\n",
    "df4Q = df[df['MEDIA_TOTAL_5EF']>q4]\n",
    "\n",
    "df1Q.loc[:,'ROTULO'] = 0\n",
    "df4Q.loc[:,'ROTULO'] = 1\n",
    "\n",
    "print(df.shape)\n",
    "treino_base_LP = pd.concat([df4Q , df1Q])\n"
   ]
  },
  {
   "cell_type": "code",
   "execution_count": 4,
   "metadata": {
    "colab": {
     "base_uri": "https://localhost:8080/",
     "height": 288
    },
    "colab_type": "code",
    "id": "btx-Ekrh3YzD",
    "outputId": "6e982374-877c-4ab7-9426-1ceb192b387a"
   },
   "outputs": [
    {
     "data": {
      "text/plain": [
       "<matplotlib.axes._subplots.AxesSubplot at 0x7fe34c9a8be0>"
      ]
     },
     "execution_count": 4,
     "metadata": {
      "tags": []
     },
     "output_type": "execute_result"
    },
    {
     "data": {
      "image/png": "[encoded data removed]",
      "text/plain": [
       "<Figure size 432x288 with 1 Axes>"
      ]
     },
     "metadata": {
      "tags": []
     },
     "output_type": "display_data"
    }
   ],
   "source": [
    "sns.boxplot(data=df['MEDIA_TOTAL_5EF'])\n"
   ]
  },
  {
   "cell_type": "code",
   "execution_count": 5,
   "metadata": {
    "colab": {
     "base_uri": "https://localhost:8080/",
     "height": 40
    },
    "colab_type": "code",
    "id": "xki1Ogj-ZXx5",
    "outputId": "76068e94-d411-451c-fa4e-9c0a9dc55f87"
   },
   "outputs": [
    {
     "name": "stdout",
     "output_type": "stream",
     "text": [
      "128\n"
     ]
    }
   ],
   "source": [
    "atributos = ['IN_AGUA_FILTRADA','IN_AGUA_REDE_PUBLICA','IN_AGUA_POCO_ARTESIANO','IN_AGUA_CACIMBA'\n",
    ",'IN_AGUA_FONTE_RIO','IN_AGUA_INEXISTENTE','IN_ENERGIA_REDE_PUBLICA','IN_ENERGIA_GERADOR'\n",
    ",'IN_ENERGIA_OUTROS','IN_ENERGIA_INEXISTENTE','IN_ESGOTO_REDE_PUBLICA','IN_ESGOTO_FOSSA'\n",
    ",'IN_ESGOTO_INEXISTENTE','IN_LIXO_COLETA_PERIODICA','IN_LIXO_QUEIMA'\n",
    ",'IN_LIXO_JOGA_OUTRA_AREA','IN_LIXO_RECICLA','IN_LIXO_ENTERRA','IN_LIXO_OUTROS'\n",
    ",'IN_SALA_DIRETORIA','IN_SALA_PROFESSOR','IN_LABORATORIO_INFORMATICA'\n",
    ",'IN_LABORATORIO_CIENCIAS','IN_SALA_ATENDIMENTO_ESPECIAL','IN_QUADRA_ESPORTES_COBERTA'\n",
    ",'IN_QUADRA_ESPORTES_DESCOBERTA','IN_QUADRA_ESPORTES','IN_COZINHA','IN_BIBLIOTECA'\n",
    ",'IN_SALA_LEITURA','IN_BIBLIOTECA_SALA_LEITURA','IN_PARQUE_INFANTIL','IN_BERCARIO'\n",
    ",'IN_BANHEIRO_FORA_PREDIO'\n",
    ",'IN_BANHEIRO_DENTRO_PREDIO'\n",
    ",'IN_BANHEIRO_EI'\n",
    ",'IN_BANHEIRO_PNE'\n",
    ",'IN_DEPENDENCIAS_PNE'\n",
    ",'IN_SECRETARIA'\n",
    ",'IN_BANHEIRO_CHUVEIRO'\n",
    ",'IN_REFEITORIO'\n",
    ",'IN_DESPENSA'\n",
    ",'IN_ALMOXARIFADO'\n",
    ",'IN_AUDITORIO'\n",
    ",'IN_PATIO_COBERTO'\n",
    ",'IN_PATIO_DESCOBERTO'\n",
    ",'IN_ALOJAM_ALUNO'\n",
    ",'IN_ALOJAM_PROFESSOR'\n",
    ",'IN_AREA_VERDE'\n",
    ",'IN_LAVANDERIA'\n",
    ",'IN_DEPENDENCIAS_OUTRAS'\n",
    ",'QT_SALAS_EXISTENTES'\n",
    ",'QT_SALAS_UTILIZADAS'\n",
    ",'IN_EQUIP_TV'\n",
    ",'IN_EQUIP_VIDEOCASSETE'\n",
    ",'IN_EQUIP_DVD'\n",
    ",'IN_EQUIP_PARABOLICA'\n",
    ",'IN_EQUIP_COPIADORA'\n",
    ",'IN_EQUIP_RETROPROJETOR'\n",
    ",'IN_EQUIP_IMPRESSORA'\n",
    ",'IN_EQUIP_IMPRESSORA_MULT'\n",
    ",'IN_EQUIP_SOM'\n",
    ",'IN_EQUIP_MULTIMIDIA'\n",
    ",'IN_EQUIP_FAX'\n",
    ",'IN_EQUIP_FOTO'\n",
    ",'IN_COMPUTADOR'\n",
    ",'QT_EQUIP_TV'\n",
    ",'QT_EQUIP_VIDEOCASSETE'\n",
    ",'QT_EQUIP_DVD'\n",
    ",'QT_EQUIP_PARABOLICA'\n",
    ",'QT_EQUIP_COPIADORA'\n",
    ",'QT_EQUIP_RETROPROJETOR'\n",
    ",'QT_EQUIP_IMPRESSORA'\n",
    ",'QT_EQUIP_IMPRESSORA_MULT'\n",
    ",'QT_EQUIP_SOM'\n",
    ",'QT_EQUIP_MULTIMIDIA'\n",
    ",'QT_EQUIP_FAX'\n",
    ",'QT_EQUIP_FOTO'\n",
    ",'QT_COMPUTADOR'\n",
    ",'QT_COMP_ADMINISTRATIVO'\n",
    ",'QT_COMP_ALUNO'\n",
    ",'IN_INTERNET'\n",
    ",'IN_BANDA_LARGA'\n",
    ",'QT_FUNCIONARIOS'\n",
    ",'IN_ALIMENTACAO'\n",
    ",'TP_AEE'\n",
    ",'TP_ATIVIDADE_COMPLEMENTAR'\n",
    ",'IN_FUNDAMENTAL_CICLOS'\n",
    ",'TP_LOCALIZACAO_DIFERENCIADA'\n",
    ",'IN_MATERIAL_ESP_QUILOMBOLA'\n",
    ",'IN_MATERIAL_ESP_INDIGENA'\n",
    ",'IN_MATERIAL_ESP_NAO_UTILIZA'\n",
    ",'IN_EDUCACAO_INDIGENA'\n",
    ",'TP_INDIGENA_LINGUA'\n",
    ",'CO_LINGUA_INDIGENA'\n",
    ",'IN_BRASIL_ALFABETIZADO'\n",
    ",'IN_FINAL_SEMANA'\n",
    ",'IN_FORMACAO_ALTERNANCIA'\n",
    ",'IN_MEDIACAO_PRESENCIAL'\n",
    ",'IN_MEDIACAO_SEMIPRESENCIAL'\n",
    ",'IN_MEDIACAO_EAD'\n",
    ",'IN_ESPECIAL_EXCLUSIVA'\n",
    ",'IN_REGULAR'\n",
    ",'IN_EJA'\n",
    ",'IN_PROFISSIONALIZANTE'\n",
    ",'IN_COMUM_CRECHE'\n",
    ",'IN_COMUM_PRE'\n",
    ",'IN_COMUM_FUND_AI'\n",
    ",'IN_COMUM_FUND_AF'\n",
    ",'IN_COMUM_MEDIO_MEDIO'\n",
    ",'IN_COMUM_MEDIO_INTEGRADO'\n",
    ",'IN_COMUM_MEDIO_NORMAL'\n",
    ",'IN_ESP_EXCLUSIVA_CRECHE'\n",
    ",'IN_ESP_EXCLUSIVA_PRE'\n",
    ",'IN_ESP_EXCLUSIVA_FUND_AI'\n",
    ",'IN_ESP_EXCLUSIVA_FUND_AF'\n",
    ",'IN_ESP_EXCLUSIVA_MEDIO_MEDIO'\n",
    ",'IN_ESP_EXCLUSIVA_MEDIO_INTEGR'\n",
    ",'IN_ESP_EXCLUSIVA_MEDIO_NORMAL'\n",
    ",'IN_COMUM_EJA_FUND'\n",
    ",'IN_COMUM_EJA_MEDIO'\n",
    ",'IN_COMUM_EJA_PROF'\n",
    ",'IN_ESP_EXCLUSIVA_EJA_FUND'\n",
    ",'IN_ESP_EXCLUSIVA_EJA_MEDIO'\n",
    ",'IN_ESP_EXCLUSIVA_EJA_PROF'\n",
    ",'IN_COMUM_PROF'\n",
    ",'IN_ESP_EXCLUSIVA_PROF','TAXA_PARTICIPACAO_5EF']\n",
    "print(len(atributos))\n",
    "\n",
    "X = treino_base_LP.loc[:, atributos ].values\n",
    "y = treino_base_LP.loc[:,'ROTULO'].values\n",
    "\n",
    "\n",
    "#df['rotulo'] = list(map(lambda x : 1 if x>300 else 0, df.loc[:,'MEDIA_TOTAL_5EF']))\n",
    "#y = df['rotulo']"
   ]
  },
  {
   "cell_type": "code",
   "execution_count": 0,
   "metadata": {
    "colab": {},
    "colab_type": "code",
    "id": "dZhTnrf-ZcwI"
   },
   "outputs": [],
   "source": [
    "# Splitting the dataset into the Training set and Test set\n",
    "\n",
    "from sklearn.model_selection import train_test_split\n",
    "X_Train, X_Test, Y_Train, Y_Test = train_test_split(X, y, test_size = 0.30, random_state = 0)\n"
   ]
  },
  {
   "cell_type": "code",
   "execution_count": 0,
   "metadata": {
    "colab": {},
    "colab_type": "code",
    "id": "b44MZlb-Zc7d"
   },
   "outputs": [],
   "source": [
    "# Feature Scaling\n",
    "\n",
    "from sklearn.preprocessing import StandardScaler\n",
    "sc_X = StandardScaler()\n",
    "X_Train = sc_X.fit_transform(X_Train)\n",
    "X_Test = sc_X.transform(X_Test)"
   ]
  },
  {
   "cell_type": "code",
   "execution_count": 8,
   "metadata": {
    "colab": {
     "base_uri": "https://localhost:8080/",
     "height": 178
    },
    "colab_type": "code",
    "id": "O6YJ0dI0Zg5y",
    "outputId": "2e986aa6-53ca-4f0a-c505-c79f4096fb5a"
   },
   "outputs": [
    {
     "data": {
      "text/plain": [
       "RandomForestClassifier(bootstrap=True, class_weight=None, criterion='entropy',\n",
       "                       max_depth=None, max_features='auto', max_leaf_nodes=None,\n",
       "                       min_impurity_decrease=0.0, min_impurity_split=None,\n",
       "                       min_samples_leaf=1, min_samples_split=2,\n",
       "                       min_weight_fraction_leaf=0.0, n_estimators=200,\n",
       "                       n_jobs=None, oob_score=False, random_state=0, verbose=0,\n",
       "                       warm_start=False)"
      ]
     },
     "execution_count": 8,
     "metadata": {
      "tags": []
     },
     "output_type": "execute_result"
    }
   ],
   "source": [
    "# Fitting the classifier into the Training set\n",
    "\n",
    "from sklearn.ensemble import RandomForestClassifier\n",
    "classifier = RandomForestClassifier(n_estimators = 200, criterion = 'entropy', random_state = 0)\n",
    "classifier.fit(X_Train,Y_Train)\n"
   ]
  },
  {
   "cell_type": "code",
   "execution_count": 0,
   "metadata": {
    "colab": {},
    "colab_type": "code",
    "id": "MTm_JVipZjiv"
   },
   "outputs": [],
   "source": [
    "# Predicting the test set results\n",
    "#%%timeit\n",
    "Y_Pred = classifier.predict(X_Test)\n",
    "\n",
    "# Making the Confusion Matrix \n",
    "\n",
    "from sklearn.metrics import confusion_matrix\n",
    "cm = confusion_matrix(Y_Test, Y_Pred)"
   ]
  },
  {
   "cell_type": "code",
   "execution_count": 0,
   "metadata": {
    "colab": {},
    "colab_type": "code",
    "id": "pk1L9TCoZllI"
   },
   "outputs": [],
   "source": [
    "from sklearn.model_selection import cross_val_score\n",
    "from sklearn.model_selection import KFold"
   ]
  },
  {
   "cell_type": "code",
   "execution_count": 11,
   "metadata": {
    "colab": {
     "base_uri": "https://localhost:8080/",
     "height": 270
    },
    "colab_type": "code",
    "id": "slQRHFvDZnOz",
    "outputId": "4c33bb29-1560-4cd0-802b-1c86de24648d"
   },
   "outputs": [
    {
     "name": "stdout",
     "output_type": "stream",
     "text": [
      "[[3146  394]\n",
      " [ 616 3008]]\n",
      "              precision    recall  f1-score   support\n",
      "\n",
      "           0       0.84      0.89      0.86      3540\n",
      "           1       0.88      0.83      0.86      3624\n",
      "\n",
      "    accuracy                           0.86      7164\n",
      "   macro avg       0.86      0.86      0.86      7164\n",
      "weighted avg       0.86      0.86      0.86      7164\n",
      "\n"
     ]
    }
   ],
   "source": [
    "from sklearn.metrics import classification_report, confusion_matrix\n",
    "print(cm)\n",
    "print(classification_report(Y_Test, Y_Pred))\n",
    "#print(\"\\n Acurácia treinamento : %.2f%%\" %accuracy_score(Y_Test, Y_Pred) * 100)"
   ]
  },
  {
   "cell_type": "code",
   "execution_count": 0,
   "metadata": {
    "colab": {},
    "colab_type": "code",
    "id": "xy-XZ-M0I12F"
   },
   "outputs": [],
   "source": [
    "#testando validação cruzada e consequencias do aumento de estimadores na acurácia"
   ]
  },
  {
   "cell_type": "code",
   "execution_count": 13,
   "metadata": {
    "colab": {
     "base_uri": "https://localhost:8080/",
     "height": 40
    },
    "colab_type": "code",
    "id": "RH5ZLOWJI4fk",
    "outputId": "dd5caa90-0aaf-4a91-e57d-5dd8d9b82ae3"
   },
   "outputs": [
    {
     "name": "stdout",
     "output_type": "stream",
     "text": [
      "O tempo gasto no cross foi de 419.6748275756836\n"
     ]
    }
   ],
   "source": [
    "from sklearn.model_selection import validation_curve\n",
    "param_range = [10, 50, 100, 200,300,400,500,800,1000,1500]\n",
    "starCross = time.time()\n",
    "crossvalidation = KFold(n_splits=3,shuffle=True,random_state=1)\n",
    "RF_cls = RandomForestClassifier(n_estimators=200,random_state=0)\n",
    "train_scores, test_scores = validation_curve(RF_cls, X, y,\n",
    "'n_estimators',\n",
    "param_range=param_range,\n",
    "cv=crossvalidation,\n",
    "scoring='accuracy')\n",
    "endCross = time.time()\n",
    "print(\"O tempo gasto no cross foi de %s\" %(endCross - starCross))\n",
    "mean_test_scores = np.mean(test_scores, axis=1)"
   ]
  },
  {
   "cell_type": "code",
   "execution_count": 14,
   "metadata": {
    "colab": {
     "base_uri": "https://localhost:8080/",
     "height": 325
    },
    "colab_type": "code",
    "id": "de6yTrXHI7SX",
    "outputId": "a8749de8-8e66-4340-ff12-65946192fdbf"
   },
   "outputs": [
    {
     "name": "stdout",
     "output_type": "stream",
     "text": [
      "[0.84600243 0.85810613 0.86103782 0.86200109 0.86225238 0.86262931\n",
      " 0.86283872 0.86317377 0.86283872 0.86304812]\n"
     ]
    },
    {
     "data": {
      "image/png": "[encoded data removed]",
      "text/plain": [
       "<Figure size 432x288 with 1 Axes>"
      ]
     },
     "metadata": {
      "tags": []
     },
     "output_type": "display_data"
    }
   ],
   "source": [
    "import matplotlib.pyplot as plt\n",
    "plt.plot(param_range, mean_test_scores,\n",
    "'bD-.', label='CV score')\n",
    "plt.grid()\n",
    "plt.xlabel('Number of estimators')\n",
    "plt.ylabel('accuracy')\n",
    "print(mean_test_scores)\n",
    "plt.legend(loc='lower right', numpoints= 1)\n",
    "plt.show()"
   ]
  },
  {
   "cell_type": "code",
   "execution_count": 0,
   "metadata": {
    "colab": {},
    "colab_type": "code",
    "id": "7q9P3y9CI9e0"
   },
   "outputs": [],
   "source": [
    "#testando agora os melhores parâmetros"
   ]
  },
  {
   "cell_type": "code",
   "execution_count": 16,
   "metadata": {
    "colab": {
     "base_uri": "https://localhost:8080/",
     "height": 290
    },
    "colab_type": "code",
    "id": "Jz9d5S9AZFsr",
    "outputId": "8f59341f-9b1d-4530-ee02-afab3361b2df"
   },
   "outputs": [
    {
     "name": "stderr",
     "output_type": "stream",
     "text": [
      "/usr/local/lib/python3.6/dist-packages/sklearn/ensemble/forest.py:245: FutureWarning: The default value of n_estimators will change from 10 in version 0.20 to 100 in 0.22.\n",
      "  \"10 in version 0.20 to 100 in 0.22.\", FutureWarning)\n",
      "/usr/local/lib/python3.6/dist-packages/sklearn/ensemble/forest.py:245: FutureWarning: The default value of n_estimators will change from 10 in version 0.20 to 100 in 0.22.\n",
      "  \"10 in version 0.20 to 100 in 0.22.\", FutureWarning)\n",
      "/usr/local/lib/python3.6/dist-packages/sklearn/ensemble/forest.py:245: FutureWarning: The default value of n_estimators will change from 10 in version 0.20 to 100 in 0.22.\n",
      "  \"10 in version 0.20 to 100 in 0.22.\", FutureWarning)\n",
      "/usr/local/lib/python3.6/dist-packages/sklearn/ensemble/forest.py:245: FutureWarning: The default value of n_estimators will change from 10 in version 0.20 to 100 in 0.22.\n",
      "  \"10 in version 0.20 to 100 in 0.22.\", FutureWarning)\n",
      "/usr/local/lib/python3.6/dist-packages/sklearn/ensemble/forest.py:245: FutureWarning: The default value of n_estimators will change from 10 in version 0.20 to 100 in 0.22.\n",
      "  \"10 in version 0.20 to 100 in 0.22.\", FutureWarning)\n"
     ]
    },
    {
     "name": "stdout",
     "output_type": "stream",
     "text": [
      "Accuracy: 0.846\n"
     ]
    }
   ],
   "source": [
    "crossvalidation = KFold(n_splits=5, shuffle=True,\n",
    "random_state=1)\n",
    "RF_cls = RandomForestClassifier(random_state=1)\n",
    "score = np.mean(cross_val_score(RF_cls, X, y,\n",
    "scoring='accuracy',\n",
    "cv=crossvalidation))\n",
    "print('Accuracy: %.3f' % score)\n",
    "#print('Accuracy: %.3f' % score)\n",
    "scorer = 'accuracy'"
   ]
  },
  {
   "cell_type": "code",
   "execution_count": 17,
   "metadata": {
    "colab": {
     "base_uri": "https://localhost:8080/",
     "height": 86
    },
    "colab_type": "code",
    "id": "0s-iiH02aG4J",
    "outputId": "95a5c489-7d21-454d-b26f-596a66545c72"
   },
   "outputs": [
    {
     "name": "stdout",
     "output_type": "stream",
     "text": [
      "Best parameters: {'max_features': 42, 'min_samples_leaf': 1, 'n_estimators': 300}\n",
      "Best accuracy: 0.8636344599405286\n",
      "Tempo gasto no grid foi de : 986.667927980423\n"
     ]
    }
   ],
   "source": [
    "from sklearn.model_selection import GridSearchCV\n",
    "\n",
    "max_features = [X.shape[1]//3, 'sqrt', 'log2', 'auto']\n",
    "min_samples_leaf = [1, 10, 30]\n",
    "n_estimators = [50, 100, 300]\n",
    "\n",
    "startGrid = time.time()\n",
    "search_grid = {'n_estimators':n_estimators,'max_features': max_features,'min_samples_leaf': min_samples_leaf}\n",
    "search_func = GridSearchCV(estimator=RF_cls, param_grid=search_grid, scoring=scorer, cv=crossvalidation, refit = True )\n",
    "\n",
    "search_func.fit(X,y)\n",
    "\n",
    "endGrid = time.time()\n",
    "best_params = search_func.best_params_\n",
    "best_score = search_func.best_score_\n",
    "\n",
    "print('Best parameters: %s' % best_params)\n",
    "print('Best accuracy: %s' % best_score)\n",
    "print('Tempo gasto no grid foi de : %s' %(endGrid - startGrid))"
   ]
  },
  {
   "cell_type": "code",
   "execution_count": 18,
   "metadata": {
    "colab": {
     "base_uri": "https://localhost:8080/",
     "height": 40
    },
    "colab_type": "code",
    "id": "qekavxAYJKJ-",
    "outputId": "55d7f01c-1e4d-4110-856f-65058e5841b2"
   },
   "outputs": [
    {
     "name": "stdout",
     "output_type": "stream",
     "text": [
      "Best accuracy: 86.36344599405285\n"
     ]
    }
   ],
   "source": [
    "print('Best accuracy: %s' % (best_score * 100))\n"
   ]
  },
  {
   "cell_type": "code",
   "execution_count": 19,
   "metadata": {
    "colab": {
     "base_uri": "https://localhost:8080/",
     "height": 178
    },
    "colab_type": "code",
    "id": "vYBrPA-MFMLy",
    "outputId": "22fa44fb-53e9-46f2-a806-1db0962a0474"
   },
   "outputs": [
    {
     "name": "stdout",
     "output_type": "stream",
     "text": [
      "RandomForestClassifier(bootstrap=True, class_weight=None, criterion='gini',\n",
      "                       max_depth=None, max_features=42, max_leaf_nodes=None,\n",
      "                       min_impurity_decrease=0.0, min_impurity_split=None,\n",
      "                       min_samples_leaf=1, min_samples_split=2,\n",
      "                       min_weight_fraction_leaf=0.0, n_estimators=300,\n",
      "                       n_jobs=None, oob_score=False, random_state=1, verbose=0,\n",
      "                       warm_start=False)\n"
     ]
    }
   ],
   "source": [
    "print( search_func.best_estimator_)\n",
    "optimised_random_forest = search_func.best_estimator_"
   ]
  },
  {
   "cell_type": "code",
   "execution_count": 20,
   "metadata": {
    "colab": {
     "base_uri": "https://localhost:8080/",
     "height": 270
    },
    "colab_type": "code",
    "id": "n8NXsQho2X7D",
    "outputId": "7f5274b0-c452-4c2f-d2c9-817026df6f14"
   },
   "outputs": [
    {
     "name": "stdout",
     "output_type": "stream",
     "text": [
      "[[2531 1009]\n",
      " [2237 1387]]\n",
      "              precision    recall  f1-score   support\n",
      "\n",
      "           0       0.53      0.71      0.61      3540\n",
      "           1       0.58      0.38      0.46      3624\n",
      "\n",
      "    accuracy                           0.55      7164\n",
      "   macro avg       0.55      0.55      0.54      7164\n",
      "weighted avg       0.56      0.55      0.53      7164\n",
      "\n"
     ]
    }
   ],
   "source": [
    "# Predicting the test set results\n",
    "#%%timeit\n",
    "Y_Pred = search_func.best_estimator_.predict(X_Test)\n",
    "\n",
    "# Making the Confusion Matrix \n",
    "\n",
    "from sklearn.metrics import confusion_matrix\n",
    "cm = confusion_matrix(Y_Test, Y_Pred)\n",
    "print(cm)\n",
    "print(classification_report(Y_Test, Y_Pred))"
   ]
  },
  {
   "cell_type": "code",
   "execution_count": 21,
   "metadata": {
    "colab": {
     "base_uri": "https://localhost:8080/",
     "height": 819
    },
    "colab_type": "code",
    "id": "DXZrfuIvJNZm",
    "outputId": "57f42403-afe4-417f-c2dc-130a8bde673c"
   },
   "outputs": [
    {
     "name": "stderr",
     "output_type": "stream",
     "text": [
      "/usr/local/lib/python3.6/dist-packages/sklearn/ensemble/forest.py:245: FutureWarning: The default value of n_estimators will change from 10 in version 0.20 to 100 in 0.22.\n",
      "  \"10 in version 0.20 to 100 in 0.22.\", FutureWarning)\n"
     ]
    },
    {
     "data": {
      "text/plain": [
       "array([2.51641060e-03, 8.65299544e-03, 4.23822215e-03, 4.26506017e-03,\n",
       "       5.39852380e-04, 6.40892638e-04, 1.63531088e-04, 1.17887100e-04,\n",
       "       3.39565969e-05, 0.00000000e+00, 2.49105803e-02, 3.55031035e-02,\n",
       "       3.70400219e-04, 5.55499641e-03, 5.33721119e-03, 7.33448242e-04,\n",
       "       6.30979410e-03, 7.34451017e-04, 5.97532865e-04, 3.78654279e-03,\n",
       "       9.86317334e-03, 3.93182288e-03, 1.61935109e-03, 3.63039878e-03,\n",
       "       1.39293705e-02, 2.66499863e-03, 5.67211244e-02, 9.08769362e-04,\n",
       "       3.69776568e-03, 4.10542495e-03, 2.35791325e-02, 3.19955675e-02,\n",
       "       2.04606711e-04, 2.24057040e-03, 9.98924795e-04, 4.22899976e-03,\n",
       "       4.69288058e-03, 4.29058074e-03, 3.66289164e-03, 4.52504515e-03,\n",
       "       1.84663147e-02, 3.30653160e-03, 4.96889544e-03, 2.05482982e-03,\n",
       "       3.82991911e-03, 5.07721526e-03, 2.67900121e-04, 3.51642281e-04,\n",
       "       4.19454326e-03, 3.28907030e-03, 7.48488061e-05, 1.65349787e-02,\n",
       "       1.66637128e-02, 1.96904712e-03, 2.99415857e-03, 3.03267640e-03,\n",
       "       3.56590328e-03, 4.64054873e-03, 3.65559616e-03, 3.60302921e-03,\n",
       "       4.27299677e-03, 2.62081664e-03, 3.32525837e-03, 1.80539405e-03,\n",
       "       4.21421555e-03, 6.35133708e-04, 3.88204039e-02, 2.89568717e-03,\n",
       "       1.30824843e-02, 3.72030114e-03, 6.95587320e-03, 4.86756508e-03,\n",
       "       1.35969822e-02, 1.08011848e-02, 2.79685964e-02, 1.55267674e-02,\n",
       "       3.27180151e-03, 9.14024562e-03, 3.93047704e-02, 7.84968463e-02,\n",
       "       6.97979850e-02, 5.04886430e-02, 3.77555976e-02, 2.34941462e-02,\n",
       "       1.53394872e-04, 4.16684749e-03, 5.75495168e-03, 8.33122572e-03,\n",
       "       3.47717334e-03, 4.20846873e-04, 2.04148903e-04, 6.81296899e-04,\n",
       "       2.96056410e-04, 1.18657398e-04, 1.67671193e-04, 1.10363273e-03,\n",
       "       6.70524891e-03, 4.16438583e-04, 9.26497266e-05, 9.66297852e-05,\n",
       "       0.00000000e+00, 4.91990273e-04, 1.63061033e-04, 1.03778579e-02,\n",
       "       2.32004324e-04, 4.70737463e-03, 4.55799643e-03, 5.44367143e-04,\n",
       "       9.33230004e-03, 1.29879926e-03, 0.00000000e+00, 1.88962992e-05,\n",
       "       0.00000000e+00, 0.00000000e+00, 2.36111311e-04, 1.11737086e-04,\n",
       "       0.00000000e+00, 0.00000000e+00, 0.00000000e+00, 1.22392619e-02,\n",
       "       7.75248482e-04, 6.52290477e-05, 1.12199519e-04, 0.00000000e+00,\n",
       "       0.00000000e+00, 8.24802004e-05, 0.00000000e+00, 6.65668884e-02])"
      ]
     },
     "execution_count": 21,
     "metadata": {
      "tags": []
     },
     "output_type": "execute_result"
    }
   ],
   "source": [
    "RF_cls.fit(X_Train, Y_Train)# Mostrando importância de cada feature\n",
    "RF_cls.feature_importances_"
   ]
  },
  {
   "cell_type": "code",
   "execution_count": 22,
   "metadata": {
    "colab": {
     "base_uri": "https://localhost:8080/",
     "height": 288
    },
    "colab_type": "code",
    "id": "A8OkqToxJN28",
    "outputId": "a6e8a282-8f07-4e1e-9329-5ad8359d242f"
   },
   "outputs": [
    {
     "data": {
      "text/plain": [
       "<matplotlib.axes._subplots.AxesSubplot at 0x7fe34be0b518>"
      ]
     },
     "execution_count": 22,
     "metadata": {
      "tags": []
     },
     "output_type": "execute_result"
    },
    {
     "data": {
      "image/png": "[encoded data removed]",
      "text/plain": [
       "<Figure size 432x288 with 1 Axes>"
      ]
     },
     "metadata": {
      "tags": []
     },
     "output_type": "display_data"
    }
   ],
   "source": [
    "importances = pd.Series(RF_cls.feature_importances_, atributos)\n",
    "importances.nlargest(25).plot(kind='barh')"
   ]
  }
 ],
 "metadata": {
  "colab": {
   "collapsed_sections": [],
   "name": "testerandomentrega1311sematributoregiao.ipynb",
   "provenance": []
  },
  "kernelspec": {
   "display_name": "Python 3",
   "language": "python",
   "name": "python3"
  },
  "language_info": {
   "codemirror_mode": {
    "name": "ipython",
    "version": 3
   },
   "file_extension": ".py",
   "mimetype": "text/x-python",
   "name": "python",
   "nbconvert_exporter": "python",
   "pygments_lexer": "ipython3",
   "version": "3.7.3"
  }
 },
 "nbformat": 4,
 "nbformat_minor": 1
}
