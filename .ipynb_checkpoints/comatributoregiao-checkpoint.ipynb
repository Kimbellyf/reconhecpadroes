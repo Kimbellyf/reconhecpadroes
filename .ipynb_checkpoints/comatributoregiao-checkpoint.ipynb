{
 "cells": [
  {
   "cell_type": "code",
   "execution_count": 0,
   "metadata": {
    "colab": {},
    "colab_type": "code",
    "id": "DliDrfq4Xnqs"
   },
   "outputs": [],
   "source": []
  },
  {
   "cell_type": "code",
   "execution_count": null,
   "metadata": {
    "colab": {
     "base_uri": "https://localhost:8080/",
     "height": 40
    },
    "colab_type": "code",
    "id": "Lfs4uDt6X-01",
    "outputId": "f7256918-7c66-4766-e075-e32a12ce9f38"
   },
   "outputs": [],
   "source": []
  },
  {
   "cell_type": "code",
   "execution_count": 0,
   "metadata": {
    "colab": {},
    "colab_type": "code",
    "id": "DI89n3bxY7Ic"
   },
   "outputs": [],
   "source": [
    "import numpy as np\n",
    "import matplotlib.pyplot as plt\n",
    "import pandas as pd\n",
    "import pickle\n",
    "import pandas as pd\n",
    "from sklearn.model_selection import train_test_split\n",
    "from sklearn.ensemble import RandomForestClassifier\n",
    "import seaborn as sns# Carregando dataset\n",
    "import  time\n"
   ]
  },
  {
   "cell_type": "code",
   "execution_count": 0,
   "metadata": {
    "colab": {},
    "colab_type": "code",
    "id": "kNNiqx47tGWo"
   },
   "outputs": [],
   "source": []
  },
  {
   "cell_type": "markdown",
   "metadata": {
    "colab_type": "text",
    "id": "-Qc0uW19k5Ec"
   },
   "source": [
    "Random com região"
   ]
  },
  {
   "cell_type": "code",
   "execution_count": 20,
   "metadata": {
    "colab": {
     "base_uri": "https://localhost:8080/",
     "height": 408
    },
    "colab_type": "code",
    "id": "IVRKUhkBZFAg",
    "outputId": "9c385375-9845-46b2-a258-eefaa276b9b8"
   },
   "outputs": [
    {
     "name": "stdout",
     "output_type": "stream",
     "text": [
      "73674\n",
      "(73674, 258)\n",
      "kim\n",
      "194.61\n",
      "(47771, 258)\n"
     ]
    },
    {
     "name": "stderr",
     "output_type": "stream",
     "text": [
      "/usr/local/lib/python3.6/dist-packages/pandas/core/indexing.py:376: SettingWithCopyWarning: \n",
      "A value is trying to be set on a copy of a slice from a DataFrame.\n",
      "Try using .loc[row_indexer,col_indexer] = value instead\n",
      "\n",
      "See the caveats in the documentation: http://pandas.pydata.org/pandas-docs/stable/user_guide/indexing.html#returning-a-view-versus-a-copy\n",
      "  self.obj[key] = _infer_fill_value(value)\n",
      "/usr/local/lib/python3.6/dist-packages/pandas/core/indexing.py:494: SettingWithCopyWarning: \n",
      "A value is trying to be set on a copy of a slice from a DataFrame.\n",
      "Try using .loc[row_indexer,col_indexer] = value instead\n",
      "\n",
      "See the caveats in the documentation: http://pandas.pydata.org/pandas-docs/stable/user_guide/indexing.html#returning-a-view-versus-a-copy\n",
      "  self.obj[item] = s\n"
     ]
    }
   ],
   "source": [
    "data = pd.read_csv(\"./Base/Base_Completa.csv'\", sep = ';', encoding = 'iso-8859-1', squeeze = True, low_memory=False)\n",
    "df = data\n",
    "data.shape\n",
    "print(len(df))\n",
    "print(data.shape)\n",
    "print(\"kim\")\n",
    "\n",
    "df = df[df.TAXA_PARTICIPACAO_5EF!=0]\n",
    "\n",
    "q1 = df['MEDIA_TOTAL_5EF'].quantile(q=0.25)\n",
    "print(q1)\n",
    "q4 = df['MEDIA_TOTAL_5EF'].quantile(q=0.75)\n",
    "\n",
    "\n",
    "df1Q = df[df['MEDIA_TOTAL_5EF']<q1]\n",
    "df4Q = df[df['MEDIA_TOTAL_5EF']>q4]\n",
    "\n",
    "df1Q.loc[:,'ROTULO'] = 0\n",
    "df4Q.loc[:,'ROTULO'] = 1\n",
    "\n",
    "print(df.shape)\n",
    "treino_base_LP = pd.concat([df4Q , df1Q])\n"
   ]
  },
  {
   "cell_type": "code",
   "execution_count": 21,
   "metadata": {
    "colab": {
     "base_uri": "https://localhost:8080/",
     "height": 288
    },
    "colab_type": "code",
    "id": "btx-Ekrh3YzD",
    "outputId": "10d6d348-bc89-4f17-ead9-d89135be1fea"
   },
   "outputs": [
    {
     "data": {
      "text/plain": [
       "<matplotlib.axes._subplots.AxesSubplot at 0x7f22e0c09c88>"
      ]
     },
     "execution_count": 21,
     "metadata": {
      "tags": []
     },
     "output_type": "execute_result"
    },
    {
     "data": {
      "image/png": "[encoded data removed]",
      "text/plain": [
       "<Figure size 432x288 with 1 Axes>"
      ]
     },
     "metadata": {
      "tags": []
     },
     "output_type": "display_data"
    }
   ],
   "source": [
    "sns.boxplot(data=df['MEDIA_TOTAL_5EF'])\n"
   ]
  },
  {
   "cell_type": "code",
   "execution_count": 22,
   "metadata": {
    "colab": {
     "base_uri": "https://localhost:8080/",
     "height": 40
    },
    "colab_type": "code",
    "id": "xki1Ogj-ZXx5",
    "outputId": "bc9c476e-de86-4011-d00f-1bb1852bf02d"
   },
   "outputs": [
    {
     "name": "stdout",
     "output_type": "stream",
     "text": [
      "130\n"
     ]
    }
   ],
   "source": [
    "atributos = ['IN_AGUA_FILTRADA','IN_AGUA_REDE_PUBLICA','IN_AGUA_POCO_ARTESIANO','IN_AGUA_CACIMBA'\n",
    ",'IN_AGUA_FONTE_RIO','IN_AGUA_INEXISTENTE','IN_ENERGIA_REDE_PUBLICA','IN_ENERGIA_GERADOR'\n",
    ",'IN_ENERGIA_OUTROS','IN_ENERGIA_INEXISTENTE','IN_ESGOTO_REDE_PUBLICA','IN_ESGOTO_FOSSA'\n",
    ",'IN_ESGOTO_INEXISTENTE','IN_LIXO_COLETA_PERIODICA','IN_LIXO_QUEIMA'\n",
    ",'IN_LIXO_JOGA_OUTRA_AREA','IN_LIXO_RECICLA','IN_LIXO_ENTERRA','IN_LIXO_OUTROS'\n",
    ",'IN_SALA_DIRETORIA','IN_SALA_PROFESSOR','IN_LABORATORIO_INFORMATICA'\n",
    ",'IN_LABORATORIO_CIENCIAS','IN_SALA_ATENDIMENTO_ESPECIAL','IN_QUADRA_ESPORTES_COBERTA'\n",
    ",'IN_QUADRA_ESPORTES_DESCOBERTA','IN_QUADRA_ESPORTES','IN_COZINHA','IN_BIBLIOTECA'\n",
    ",'IN_SALA_LEITURA','IN_BIBLIOTECA_SALA_LEITURA','IN_PARQUE_INFANTIL','IN_BERCARIO'\n",
    ",'IN_BANHEIRO_FORA_PREDIO'\n",
    ",'IN_BANHEIRO_DENTRO_PREDIO'\n",
    ",'IN_BANHEIRO_EI'\n",
    ",'IN_BANHEIRO_PNE'\n",
    ",'IN_DEPENDENCIAS_PNE'\n",
    ",'IN_SECRETARIA'\n",
    ",'IN_BANHEIRO_CHUVEIRO'\n",
    ",'IN_REFEITORIO'\n",
    ",'IN_DESPENSA'\n",
    ",'IN_ALMOXARIFADO'\n",
    ",'IN_AUDITORIO'\n",
    ",'IN_PATIO_COBERTO'\n",
    ",'IN_PATIO_DESCOBERTO'\n",
    ",'IN_ALOJAM_ALUNO'\n",
    ",'IN_ALOJAM_PROFESSOR'\n",
    ",'IN_AREA_VERDE'\n",
    ",'IN_LAVANDERIA'\n",
    ",'IN_DEPENDENCIAS_OUTRAS'\n",
    ",'QT_SALAS_EXISTENTES'\n",
    ",'QT_SALAS_UTILIZADAS'\n",
    ",'IN_EQUIP_TV'\n",
    ",'IN_EQUIP_VIDEOCASSETE'\n",
    ",'IN_EQUIP_DVD'\n",
    ",'IN_EQUIP_PARABOLICA'\n",
    ",'IN_EQUIP_COPIADORA'\n",
    ",'IN_EQUIP_RETROPROJETOR'\n",
    ",'IN_EQUIP_IMPRESSORA'\n",
    ",'IN_EQUIP_IMPRESSORA_MULT'\n",
    ",'IN_EQUIP_SOM'\n",
    ",'IN_EQUIP_MULTIMIDIA'\n",
    ",'IN_EQUIP_FAX'\n",
    ",'IN_EQUIP_FOTO'\n",
    ",'IN_COMPUTADOR'\n",
    ",'QT_EQUIP_TV'\n",
    ",'QT_EQUIP_VIDEOCASSETE'\n",
    ",'QT_EQUIP_DVD'\n",
    ",'QT_EQUIP_PARABOLICA'\n",
    ",'QT_EQUIP_COPIADORA'\n",
    ",'QT_EQUIP_RETROPROJETOR'\n",
    ",'QT_EQUIP_IMPRESSORA'\n",
    ",'QT_EQUIP_IMPRESSORA_MULT'\n",
    ",'QT_EQUIP_SOM'\n",
    ",'QT_EQUIP_MULTIMIDIA'\n",
    ",'QT_EQUIP_FAX'\n",
    ",'QT_EQUIP_FOTO'\n",
    ",'QT_COMPUTADOR'\n",
    ",'QT_COMP_ADMINISTRATIVO'\n",
    ",'QT_COMP_ALUNO'\n",
    ",'IN_INTERNET'\n",
    ",'IN_BANDA_LARGA'\n",
    ",'QT_FUNCIONARIOS'\n",
    ",'IN_ALIMENTACAO'\n",
    ",'TP_AEE'\n",
    ",'TP_ATIVIDADE_COMPLEMENTAR'\n",
    ",'IN_FUNDAMENTAL_CICLOS'\n",
    ",'TP_LOCALIZACAO_DIFERENCIADA'\n",
    ",'IN_MATERIAL_ESP_QUILOMBOLA'\n",
    ",'IN_MATERIAL_ESP_INDIGENA'\n",
    ",'IN_MATERIAL_ESP_NAO_UTILIZA'\n",
    ",'IN_EDUCACAO_INDIGENA'\n",
    ",'TP_INDIGENA_LINGUA'\n",
    ",'CO_LINGUA_INDIGENA'\n",
    ",'IN_BRASIL_ALFABETIZADO'\n",
    ",'IN_FINAL_SEMANA'\n",
    ",'IN_FORMACAO_ALTERNANCIA'\n",
    ",'IN_MEDIACAO_PRESENCIAL'\n",
    ",'IN_MEDIACAO_SEMIPRESENCIAL'\n",
    ",'IN_MEDIACAO_EAD'\n",
    ",'IN_ESPECIAL_EXCLUSIVA'\n",
    ",'IN_REGULAR'\n",
    ",'IN_EJA'\n",
    ",'IN_PROFISSIONALIZANTE'\n",
    ",'IN_COMUM_CRECHE'\n",
    ",'IN_COMUM_PRE'\n",
    ",'IN_COMUM_FUND_AI'\n",
    ",'IN_COMUM_FUND_AF'\n",
    ",'IN_COMUM_MEDIO_MEDIO'\n",
    ",'IN_COMUM_MEDIO_INTEGRADO'\n",
    ",'IN_COMUM_MEDIO_NORMAL'\n",
    ",'IN_ESP_EXCLUSIVA_CRECHE'\n",
    ",'IN_ESP_EXCLUSIVA_PRE'\n",
    ",'IN_ESP_EXCLUSIVA_FUND_AI'\n",
    ",'IN_ESP_EXCLUSIVA_FUND_AF'\n",
    ",'IN_ESP_EXCLUSIVA_MEDIO_MEDIO'\n",
    ",'IN_ESP_EXCLUSIVA_MEDIO_INTEGR'\n",
    ",'IN_ESP_EXCLUSIVA_MEDIO_NORMAL'\n",
    ",'IN_COMUM_EJA_FUND'\n",
    ",'IN_COMUM_EJA_MEDIO'\n",
    ",'IN_COMUM_EJA_PROF'\n",
    ",'IN_ESP_EXCLUSIVA_EJA_FUND'\n",
    ",'IN_ESP_EXCLUSIVA_EJA_MEDIO'\n",
    ",'IN_ESP_EXCLUSIVA_EJA_PROF'\n",
    ",'IN_COMUM_PROF'\n",
    ",'IN_ESP_EXCLUSIVA_PROF'\n",
    ",'CO_UF', 'CO_REGIAO', 'TAXA_PARTICIPACAO_5EF']\n",
    "print(len(atributos))\n",
    "\n",
    "X = treino_base_LP.loc[:, atributos ].values\n",
    "y = treino_base_LP.loc[:,'ROTULO'].values\n",
    "\n",
    "\n",
    "#df['rotulo'] = list(map(lambda x : 1 if x>300 else 0, df.loc[:,'MEDIA_TOTAL_5EF']))\n",
    "#y = df['rotulo']"
   ]
  },
  {
   "cell_type": "code",
   "execution_count": 0,
   "metadata": {
    "colab": {},
    "colab_type": "code",
    "id": "dZhTnrf-ZcwI"
   },
   "outputs": [],
   "source": [
    "# Splitting the dataset into the Training set and Test set\n",
    "\n",
    "from sklearn.model_selection import train_test_split\n",
    "X_Train, X_Test, Y_Train, Y_Test = train_test_split(X, y, test_size = 0.30, random_state = 0)\n"
   ]
  },
  {
   "cell_type": "code",
   "execution_count": 0,
   "metadata": {
    "colab": {},
    "colab_type": "code",
    "id": "b44MZlb-Zc7d"
   },
   "outputs": [],
   "source": [
    "# Feature Scaling\n",
    "\n",
    "from sklearn.preprocessing import StandardScaler\n",
    "sc_X = StandardScaler()\n",
    "X_Train = sc_X.fit_transform(X_Train)\n",
    "X_Test = sc_X.transform(X_Test)"
   ]
  },
  {
   "cell_type": "code",
   "execution_count": 25,
   "metadata": {
    "colab": {
     "base_uri": "https://localhost:8080/",
     "height": 178
    },
    "colab_type": "code",
    "id": "O6YJ0dI0Zg5y",
    "outputId": "5503f447-8ef7-4943-9822-fd500f590828"
   },
   "outputs": [
    {
     "data": {
      "text/plain": [
       "RandomForestClassifier(bootstrap=True, class_weight=None, criterion='entropy',\n",
       "                       max_depth=None, max_features='auto', max_leaf_nodes=None,\n",
       "                       min_impurity_decrease=0.0, min_impurity_split=None,\n",
       "                       min_samples_leaf=1, min_samples_split=2,\n",
       "                       min_weight_fraction_leaf=0.0, n_estimators=200,\n",
       "                       n_jobs=None, oob_score=False, random_state=0, verbose=0,\n",
       "                       warm_start=False)"
      ]
     },
     "execution_count": 25,
     "metadata": {
      "tags": []
     },
     "output_type": "execute_result"
    }
   ],
   "source": [
    "# Fitting the classifier into the Training set\n",
    "\n",
    "from sklearn.ensemble import RandomForestClassifier\n",
    "classifier = RandomForestClassifier(n_estimators = 200, criterion = 'entropy', random_state = 0)\n",
    "classifier.fit(X_Train,Y_Train)\n"
   ]
  },
  {
   "cell_type": "code",
   "execution_count": 0,
   "metadata": {
    "colab": {},
    "colab_type": "code",
    "id": "MTm_JVipZjiv"
   },
   "outputs": [],
   "source": [
    "# Predicting the test set results\n",
    "#%%timeit\n",
    "Y_Pred = classifier.predict(X_Test)\n",
    "\n",
    "# Making the Confusion Matrix \n",
    "\n",
    "from sklearn.metrics import confusion_matrix\n",
    "cm = confusion_matrix(Y_Test, Y_Pred)"
   ]
  },
  {
   "cell_type": "code",
   "execution_count": 0,
   "metadata": {
    "colab": {},
    "colab_type": "code",
    "id": "pk1L9TCoZllI"
   },
   "outputs": [],
   "source": [
    "from sklearn.model_selection import cross_val_score\n",
    "from sklearn.model_selection import KFold"
   ]
  },
  {
   "cell_type": "code",
   "execution_count": 28,
   "metadata": {
    "colab": {
     "base_uri": "https://localhost:8080/",
     "height": 270
    },
    "colab_type": "code",
    "id": "slQRHFvDZnOz",
    "outputId": "127d3c12-b820-4810-9b02-80653373f823"
   },
   "outputs": [
    {
     "name": "stdout",
     "output_type": "stream",
     "text": [
      "[[3244  296]\n",
      " [ 516 3108]]\n",
      "              precision    recall  f1-score   support\n",
      "\n",
      "           0       0.86      0.92      0.89      3540\n",
      "           1       0.91      0.86      0.88      3624\n",
      "\n",
      "    accuracy                           0.89      7164\n",
      "   macro avg       0.89      0.89      0.89      7164\n",
      "weighted avg       0.89      0.89      0.89      7164\n",
      "\n"
     ]
    }
   ],
   "source": [
    "from sklearn.metrics import classification_report, confusion_matrix\n",
    "print(cm)\n",
    "print(classification_report(Y_Test, Y_Pred))\n",
    "#print(\"\\n Acurácia treinamento : %.2f%%\" %accuracy_score(Y_Test, Y_Pred) * 100)"
   ]
  },
  {
   "cell_type": "code",
   "execution_count": 0,
   "metadata": {
    "colab": {},
    "colab_type": "code",
    "id": "xy-XZ-M0I12F"
   },
   "outputs": [],
   "source": [
    "#testando validação cruzada e consequencias do aumento de estimadores na acurácia"
   ]
  },
  {
   "cell_type": "code",
   "execution_count": 0,
   "metadata": {
    "colab": {},
    "colab_type": "code",
    "id": "RH5ZLOWJI4fk"
   },
   "outputs": [],
   "source": [
    "from sklearn.model_selection import validation_curve\n",
    "param_range = [10, 50, 100, 200,300,400,500,800,1000,1500]\n",
    "crossvalidation = KFold(n_splits=3,shuffle=True,random_state=1)\n",
    "RF_cls = RandomForestClassifier(n_estimators=200,random_state=0)\n",
    "train_scores, test_scores = validation_curve(RF_cls, X, y,\n",
    "'n_estimators',\n",
    "param_range=param_range,\n",
    "cv=crossvalidation,\n",
    "scoring='accuracy')\n",
    "mean_test_scores = np.mean(test_scores, axis=1)"
   ]
  },
  {
   "cell_type": "code",
   "execution_count": 31,
   "metadata": {
    "colab": {
     "base_uri": "https://localhost:8080/",
     "height": 325
    },
    "colab_type": "code",
    "id": "de6yTrXHI7SX",
    "outputId": "dbd4e01c-3151-419d-92dd-246ac02f8976"
   },
   "outputs": [
    {
     "name": "stdout",
     "output_type": "stream",
     "text": [
      "[0.87896302 0.88754869 0.88779997 0.88809314 0.88834443 0.88880513\n",
      " 0.88834443 0.88859572 0.88880513 0.88813503]\n"
     ]
    },
    {
     "data": {
      "image/png": "[encoded data removed]",
      "text/plain": [
       "<Figure size 432x288 with 1 Axes>"
      ]
     },
     "metadata": {
      "tags": []
     },
     "output_type": "display_data"
    }
   ],
   "source": [
    "import matplotlib.pyplot as plt\n",
    "plt.plot(param_range, mean_test_scores,\n",
    "'bD-.', label='CV score')\n",
    "plt.grid()\n",
    "plt.xlabel('Number of estimators')\n",
    "plt.ylabel('accuracy')\n",
    "print(mean_test_scores)\n",
    "plt.legend(loc='lower right', numpoints= 1)\n",
    "plt.show()"
   ]
  },
  {
   "cell_type": "code",
   "execution_count": 0,
   "metadata": {
    "colab": {},
    "colab_type": "code",
    "id": "7q9P3y9CI9e0"
   },
   "outputs": [],
   "source": [
    "#testando agora os melhores parâmetros"
   ]
  },
  {
   "cell_type": "code",
   "execution_count": 33,
   "metadata": {
    "colab": {
     "base_uri": "https://localhost:8080/",
     "height": 290
    },
    "colab_type": "code",
    "id": "Jz9d5S9AZFsr",
    "outputId": "75a3fb1f-d0d8-4445-b301-bae1a0a60611"
   },
   "outputs": [
    {
     "name": "stderr",
     "output_type": "stream",
     "text": [
      "/usr/local/lib/python3.6/dist-packages/sklearn/ensemble/forest.py:245: FutureWarning: The default value of n_estimators will change from 10 in version 0.20 to 100 in 0.22.\n",
      "  \"10 in version 0.20 to 100 in 0.22.\", FutureWarning)\n",
      "/usr/local/lib/python3.6/dist-packages/sklearn/ensemble/forest.py:245: FutureWarning: The default value of n_estimators will change from 10 in version 0.20 to 100 in 0.22.\n",
      "  \"10 in version 0.20 to 100 in 0.22.\", FutureWarning)\n",
      "/usr/local/lib/python3.6/dist-packages/sklearn/ensemble/forest.py:245: FutureWarning: The default value of n_estimators will change from 10 in version 0.20 to 100 in 0.22.\n",
      "  \"10 in version 0.20 to 100 in 0.22.\", FutureWarning)\n",
      "/usr/local/lib/python3.6/dist-packages/sklearn/ensemble/forest.py:245: FutureWarning: The default value of n_estimators will change from 10 in version 0.20 to 100 in 0.22.\n",
      "  \"10 in version 0.20 to 100 in 0.22.\", FutureWarning)\n",
      "/usr/local/lib/python3.6/dist-packages/sklearn/ensemble/forest.py:245: FutureWarning: The default value of n_estimators will change from 10 in version 0.20 to 100 in 0.22.\n",
      "  \"10 in version 0.20 to 100 in 0.22.\", FutureWarning)\n"
     ]
    },
    {
     "name": "stdout",
     "output_type": "stream",
     "text": [
      "Accuracy: 0.881\n"
     ]
    }
   ],
   "source": [
    "crossvalidation = KFold(n_splits=5, shuffle=True,\n",
    "random_state=1)\n",
    "RF_cls = RandomForestClassifier(random_state=1)\n",
    "score = np.mean(cross_val_score(RF_cls, X, y,\n",
    "scoring='accuracy',\n",
    "cv=crossvalidation))\n",
    "print('Accuracy: %.3f' % score)\n",
    "#print('Accuracy: %.3f' % score)\n",
    "scorer = 'accuracy'"
   ]
  },
  {
   "cell_type": "code",
   "execution_count": 34,
   "metadata": {
    "colab": {
     "base_uri": "https://localhost:8080/",
     "height": 63
    },
    "colab_type": "code",
    "id": "0s-iiH02aG4J",
    "outputId": "22d39108-43da-443d-8eea-9bfd85121bc9"
   },
   "outputs": [
    {
     "name": "stdout",
     "output_type": "stream",
     "text": [
      "Best parameters: {'max_features': 43, 'min_samples_leaf': 1, 'n_estimators': 300}\n",
      "Best accuracy: 0.9043012103698119\n"
     ]
    }
   ],
   "source": [
    "from sklearn.model_selection import GridSearchCV\n",
    "\n",
    "startGrid = time.time()\n",
    "max_features = [X.shape[1]//3, 'sqrt', 'log2', 'auto']\n",
    "min_samples_leaf = [1, 10, 30]\n",
    "n_estimators = [50, 100, 300]\n",
    "\n",
    "search_grid = {'n_estimators':n_estimators,'max_features': max_features,'min_samples_leaf': min_samples_leaf}\n",
    "search_func = GridSearchCV(estimator=RF_cls, param_grid=search_grid, scoring=scorer, cv=crossvalidation, refit = True )\n",
    "\n",
    "search_func.fit(X,y)\n",
    "\n",
    "endGrid = time.time()\n",
    "\n",
    "best_params = search_func.best_params_\n",
    "best_score = search_func.best_score_\n",
    "\n",
    "print('Best parameters: %s' % best_params)\n",
    "print('Best accuracy: %s' % best_score)"
   ]
  },
  {
   "cell_type": "code",
   "execution_count": 35,
   "metadata": {
    "colab": {
     "base_uri": "https://localhost:8080/",
     "height": 40
    },
    "colab_type": "code",
    "id": "qekavxAYJKJ-",
    "outputId": "e44d3d6c-f776-478a-95ab-76916532580b"
   },
   "outputs": [
    {
     "name": "stdout",
     "output_type": "stream",
     "text": [
      "Best accuracy: 90.43012103698119\n"
     ]
    }
   ],
   "source": [
    "print('Best accuracy: %s' % (best_score * 100))\n"
   ]
  },
  {
   "cell_type": "code",
   "execution_count": 36,
   "metadata": {
    "colab": {
     "base_uri": "https://localhost:8080/",
     "height": 178
    },
    "colab_type": "code",
    "id": "vYBrPA-MFMLy",
    "outputId": "3f71b28b-53c1-4629-d4f6-dbb328c39312"
   },
   "outputs": [
    {
     "name": "stdout",
     "output_type": "stream",
     "text": [
      "RandomForestClassifier(bootstrap=True, class_weight=None, criterion='gini',\n",
      "                       max_depth=None, max_features=43, max_leaf_nodes=None,\n",
      "                       min_impurity_decrease=0.0, min_impurity_split=None,\n",
      "                       min_samples_leaf=1, min_samples_split=2,\n",
      "                       min_weight_fraction_leaf=0.0, n_estimators=300,\n",
      "                       n_jobs=None, oob_score=False, random_state=1, verbose=0,\n",
      "                       warm_start=False)\n"
     ]
    }
   ],
   "source": [
    "print( search_func.best_estimator_)\n",
    "optimised_random_forest = search_func.best_estimator_"
   ]
  },
  {
   "cell_type": "code",
   "execution_count": 37,
   "metadata": {
    "colab": {
     "base_uri": "https://localhost:8080/",
     "height": 270
    },
    "colab_type": "code",
    "id": "n8NXsQho2X7D",
    "outputId": "c15aea1d-3ec9-4280-cbb6-a48fe9e928dd"
   },
   "outputs": [
    {
     "name": "stdout",
     "output_type": "stream",
     "text": [
      "[[1493 2047]\n",
      " [2556 1068]]\n",
      "              precision    recall  f1-score   support\n",
      "\n",
      "           0       0.37      0.42      0.39      3540\n",
      "           1       0.34      0.29      0.32      3624\n",
      "\n",
      "    accuracy                           0.36      7164\n",
      "   macro avg       0.36      0.36      0.36      7164\n",
      "weighted avg       0.36      0.36      0.35      7164\n",
      "\n"
     ]
    }
   ],
   "source": [
    "# Predicting the test set results\n",
    "#%%timeit\n",
    "Y_Pred = search_func.best_estimator_.predict(X_Test)\n",
    "\n",
    "# Making the Confusion Matrix \n",
    "\n",
    "from sklearn.metrics import confusion_matrix\n",
    "cm = confusion_matrix(Y_Test, Y_Pred)\n",
    "print(cm)\n",
    "print(classification_report(Y_Test, Y_Pred))"
   ]
  },
  {
   "cell_type": "code",
   "execution_count": 38,
   "metadata": {
    "colab": {
     "base_uri": "https://localhost:8080/",
     "height": 842
    },
    "colab_type": "code",
    "id": "DXZrfuIvJNZm",
    "outputId": "12ebec50-45f3-4469-91fc-906980d682fa"
   },
   "outputs": [
    {
     "name": "stderr",
     "output_type": "stream",
     "text": [
      "/usr/local/lib/python3.6/dist-packages/sklearn/ensemble/forest.py:245: FutureWarning: The default value of n_estimators will change from 10 in version 0.20 to 100 in 0.22.\n",
      "  \"10 in version 0.20 to 100 in 0.22.\", FutureWarning)\n"
     ]
    },
    {
     "data": {
      "text/plain": [
       "array([2.18307249e-03, 3.40757101e-03, 6.45202057e-03, 3.45873432e-03,\n",
       "       9.13861955e-04, 3.79540851e-04, 1.08054367e-04, 6.97686644e-05,\n",
       "       1.00479828e-04, 0.00000000e+00, 1.07189250e-02, 2.59998020e-02,\n",
       "       3.26654240e-04, 2.42441319e-02, 3.74358091e-03, 6.62235341e-04,\n",
       "       3.70703280e-03, 5.21383839e-04, 1.76561212e-04, 1.45645090e-02,\n",
       "       1.56012257e-02, 3.90864841e-03, 6.83950436e-04, 3.49413891e-03,\n",
       "       1.72200750e-02, 2.11838627e-03, 3.86809185e-02, 5.97298892e-04,\n",
       "       2.78973510e-03, 3.50607827e-03, 2.10689790e-02, 1.09401220e-02,\n",
       "       1.53580265e-04, 2.62164866e-03, 1.08990630e-03, 3.09573452e-03,\n",
       "       3.51581545e-03, 3.13732351e-03, 3.00861100e-03, 3.05932349e-03,\n",
       "       7.00497043e-03, 2.83071680e-03, 3.86927470e-03, 1.86363755e-03,\n",
       "       3.27610061e-03, 3.08744229e-03, 2.37508159e-05, 2.21107127e-04,\n",
       "       2.78409380e-03, 2.46221290e-03, 3.21978126e-05, 2.85612992e-02,\n",
       "       1.23436328e-02, 1.56705212e-03, 1.75372819e-03, 1.89418988e-03,\n",
       "       3.00022822e-03, 3.26179907e-03, 2.52813937e-03, 2.89788920e-03,\n",
       "       3.32086998e-03, 1.98518840e-03, 2.00450501e-03, 1.70660231e-03,\n",
       "       1.55163474e-02, 5.24635912e-04, 1.06963872e-02, 2.82109446e-03,\n",
       "       8.96682718e-03, 2.91975326e-03, 5.66335797e-03, 3.86695112e-03,\n",
       "       1.62748390e-02, 7.33420079e-03, 3.63057241e-02, 9.75774831e-03,\n",
       "       4.55040432e-03, 6.42250370e-03, 2.35143274e-02, 7.54309789e-02,\n",
       "       1.99161463e-02, 2.08098460e-02, 2.86003818e-02, 1.76388660e-02,\n",
       "       3.66488423e-04, 3.00617354e-03, 3.95133984e-03, 4.98512473e-03,\n",
       "       2.13059210e-03, 7.18970484e-04, 6.42262131e-05, 6.31805659e-04,\n",
       "       2.04472853e-04, 9.03362239e-05, 8.50024420e-05, 6.24905693e-04,\n",
       "       4.87769509e-03, 1.91378561e-04, 0.00000000e+00, 3.85917951e-05,\n",
       "       0.00000000e+00, 3.78558078e-04, 5.09557538e-04, 7.66933056e-03,\n",
       "       1.20876935e-04, 3.44954572e-03, 3.55566309e-03, 8.14748808e-04,\n",
       "       8.28334871e-03, 1.26426799e-03, 3.47520370e-05, 9.17127606e-05,\n",
       "       0.00000000e+00, 0.00000000e+00, 4.50663454e-04, 1.43868914e-04,\n",
       "       0.00000000e+00, 0.00000000e+00, 0.00000000e+00, 1.02731652e-02,\n",
       "       3.61510466e-04, 2.01339595e-04, 1.43426032e-04, 0.00000000e+00,\n",
       "       0.00000000e+00, 1.08994114e-04, 0.00000000e+00, 1.31838706e-01,\n",
       "       9.62795273e-02, 5.82179635e-02])"
      ]
     },
     "execution_count": 38,
     "metadata": {
      "tags": []
     },
     "output_type": "execute_result"
    }
   ],
   "source": [
    "RF_cls.fit(X_Train, Y_Train)# Mostrando importância de cada feature\n",
    "RF_cls.feature_importances_"
   ]
  },
  {
   "cell_type": "code",
   "execution_count": 39,
   "metadata": {
    "colab": {
     "base_uri": "https://localhost:8080/",
     "height": 288
    },
    "colab_type": "code",
    "id": "A8OkqToxJN28",
    "outputId": "2a17512f-be2c-45c2-f5d9-9deeb3a25f37"
   },
   "outputs": [
    {
     "data": {
      "text/plain": [
       "<matplotlib.axes._subplots.AxesSubplot at 0x7f22e0ce7f60>"
      ]
     },
     "execution_count": 39,
     "metadata": {
      "tags": []
     },
     "output_type": "execute_result"
    },
    {
     "data": {
      "image/png": "[encoded data removed]",
      "text/plain": [
       "<Figure size 432x288 with 1 Axes>"
      ]
     },
     "metadata": {
      "tags": []
     },
     "output_type": "display_data"
    }
   ],
   "source": [
    "importances = pd.Series(RF_cls.feature_importances_, atributos)\n",
    "importances.nlargest(25).plot(kind='barh')"
   ]
  }
 ],
 "metadata": {
  "colab": {
   "collapsed_sections": [],
   "name": "testerandomentrega1311comatributoregiao.ipynb",
   "provenance": []
  },
  "kernelspec": {
   "display_name": "Python 3",
   "language": "python",
   "name": "python3"
  },
  "language_info": {
   "codemirror_mode": {
    "name": "ipython",
    "version": 3
   },
   "file_extension": ".py",
   "mimetype": "text/x-python",
   "name": "python",
   "nbconvert_exporter": "python",
   "pygments_lexer": "ipython3",
   "version": "3.7.3"
  }
 },
 "nbformat": 4,
 "nbformat_minor": 1
}
