{
 "cells": [
  {
   "cell_type": "code",
   "execution_count": null,
   "metadata": {
    "id": "DliDrfq4Xnqs"
   },
   "outputs": [],
   "source": []
  },
  {
   "cell_type": "code",
   "execution_count": null,
   "metadata": {
    "colab": {
     "base_uri": "https://localhost:8080/"
    },
    "id": "Lfs4uDt6X-01",
    "outputId": "6898ebe8-3797-4a00-f37b-d7e2e813876e"
   },
   "outputs": [],
   "source": []
  },
  {
   "cell_type": "code",
   "execution_count": 2,
   "metadata": {
    "id": "DI89n3bxY7Ic"
   },
   "outputs": [],
   "source": [
    "import numpy as np\n",
    "import matplotlib.pyplot as plt\n",
    "import pandas as pd\n",
    "import pickle\n",
    "import pandas as pd\n",
    "from sklearn.model_selection import train_test_split\n",
    "from sklearn.ensemble import RandomForestClassifier\n",
    "import seaborn as sns# Carregando dataset\n",
    "import time\n"
   ]
  },
  {
   "cell_type": "code",
   "execution_count": 2,
   "metadata": {
    "id": "kNNiqx47tGWo"
   },
   "outputs": [],
   "source": []
  },
  {
   "cell_type": "markdown",
   "metadata": {
    "id": "-Qc0uW19k5Ec"
   },
   "source": [
    "Random com região"
   ]
  },
  {
   "cell_type": "code",
   "execution_count": 3,
   "metadata": {
    "colab": {
     "base_uri": "https://localhost:8080/"
    },
    "id": "IVRKUhkBZFAg",
    "outputId": "6638ad2a-d359-4211-a825-53a7a36e55aa"
   },
   "outputs": [
    {
     "name": "stdout",
     "output_type": "stream",
     "text": [
      "73674\n",
      "(73674, 258)\n",
      "kim\n",
      "194.61\n",
      "(47771, 258)\n"
     ]
    },
    {
     "name": "stderr",
     "output_type": "stream",
     "text": [
      "/usr/local/lib/python3.7/dist-packages/pandas/core/indexing.py:1596: SettingWithCopyWarning: \n",
      "A value is trying to be set on a copy of a slice from a DataFrame.\n",
      "Try using .loc[row_indexer,col_indexer] = value instead\n",
      "\n",
      "See the caveats in the documentation: https://pandas.pydata.org/pandas-docs/stable/user_guide/indexing.html#returning-a-view-versus-a-copy\n",
      "  self.obj[key] = _infer_fill_value(value)\n",
      "/usr/local/lib/python3.7/dist-packages/pandas/core/indexing.py:1763: SettingWithCopyWarning: \n",
      "A value is trying to be set on a copy of a slice from a DataFrame.\n",
      "Try using .loc[row_indexer,col_indexer] = value instead\n",
      "\n",
      "See the caveats in the documentation: https://pandas.pydata.org/pandas-docs/stable/user_guide/indexing.html#returning-a-view-versus-a-copy\n",
      "  isetter(loc, value)\n"
     ]
    }
   ],
   "source": [
    "data = pd.read_csv(\"./Base/Base_Completa.csv\", sep = ';', encoding = 'iso-8859-1', squeeze = True, low_memory=False)\n",
    "df = data\n",
    "data.shape\n",
    "print(len(df))\n",
    "print(data.shape)\n",
    "print(\"kim\")\n",
    "\n",
    "df = df[df.TAXA_PARTICIPACAO_5EF!=0]\n",
    "\n",
    "q1 = df['MEDIA_TOTAL_5EF'].quantile(q=0.25)\n",
    "print(q1)\n",
    "q4 = df['MEDIA_TOTAL_5EF'].quantile(q=0.75)\n",
    "\n",
    "\n",
    "df1Q = df[df['MEDIA_TOTAL_5EF']<q1]\n",
    "df4Q = df[df['MEDIA_TOTAL_5EF']>q4]\n",
    "\n",
    "df1Q.loc[:,'ROTULO'] = 0\n",
    "df4Q.loc[:,'ROTULO'] = 1\n",
    "\n",
    "print(df.shape)\n",
    "treino_base_LP = pd.concat([df4Q , df1Q])\n"
   ]
  },
  {
   "cell_type": "code",
   "execution_count": 4,
   "metadata": {
    "colab": {
     "base_uri": "https://localhost:8080/",
     "height": 287
    },
    "id": "btx-Ekrh3YzD",
    "outputId": "0903103f-d3f3-48be-f152-2bb1a879da33"
   },
   "outputs": [
    {
     "data": {
      "text/plain": [
       "<matplotlib.axes._subplots.AxesSubplot at 0x7f5494064b50>"
      ]
     },
     "execution_count": 4,
     "metadata": {
      "tags": []
     },
     "output_type": "execute_result"
    },
    {
     "data": {
      "image/png": "[encoded data removed]",
      "text/plain": [
       "<Figure size 432x288 with 1 Axes>"
      ]
     },
     "metadata": {
      "needs_background": "light",
      "tags": []
     },
     "output_type": "display_data"
    }
   ],
   "source": [
    "sns.boxplot(data=df['MEDIA_TOTAL_5EF'])\n"
   ]
  },
  {
   "cell_type": "code",
   "execution_count": 5,
   "metadata": {
    "colab": {
     "base_uri": "https://localhost:8080/"
    },
    "id": "xki1Ogj-ZXx5",
    "outputId": "03194de8-8ed7-4b2b-b99d-ce59c5b93ef9"
   },
   "outputs": [
    {
     "name": "stdout",
     "output_type": "stream",
     "text": [
      "127\n"
     ]
    }
   ],
   "source": [
    "atributos = ['IN_AGUA_FILTRADA','IN_AGUA_REDE_PUBLICA','IN_AGUA_POCO_ARTESIANO','IN_AGUA_CACIMBA'\n",
    ",'IN_AGUA_FONTE_RIO','IN_AGUA_INEXISTENTE','IN_ENERGIA_REDE_PUBLICA','IN_ENERGIA_GERADOR'\n",
    ",'IN_ENERGIA_OUTROS','IN_ENERGIA_INEXISTENTE','IN_ESGOTO_REDE_PUBLICA','IN_ESGOTO_FOSSA'\n",
    ",'IN_ESGOTO_INEXISTENTE','IN_LIXO_COLETA_PERIODICA','IN_LIXO_QUEIMA'\n",
    ",'IN_LIXO_JOGA_OUTRA_AREA','IN_LIXO_RECICLA','IN_LIXO_ENTERRA','IN_LIXO_OUTROS'\n",
    ",'IN_SALA_DIRETORIA','IN_SALA_PROFESSOR','IN_LABORATORIO_INFORMATICA'\n",
    ",'IN_LABORATORIO_CIENCIAS','IN_SALA_ATENDIMENTO_ESPECIAL','IN_QUADRA_ESPORTES_COBERTA'\n",
    ",'IN_QUADRA_ESPORTES_DESCOBERTA','IN_QUADRA_ESPORTES','IN_COZINHA','IN_BIBLIOTECA'\n",
    ",'IN_SALA_LEITURA','IN_BIBLIOTECA_SALA_LEITURA','IN_PARQUE_INFANTIL','IN_BERCARIO'\n",
    ",'IN_BANHEIRO_FORA_PREDIO'\n",
    ",'IN_BANHEIRO_DENTRO_PREDIO'\n",
    ",'IN_BANHEIRO_EI'\n",
    ",'IN_BANHEIRO_PNE'\n",
    ",'IN_DEPENDENCIAS_PNE'\n",
    ",'IN_SECRETARIA'\n",
    ",'IN_BANHEIRO_CHUVEIRO'\n",
    ",'IN_REFEITORIO'\n",
    ",'IN_DESPENSA'\n",
    ",'IN_ALMOXARIFADO'\n",
    ",'IN_AUDITORIO'\n",
    ",'IN_PATIO_COBERTO'\n",
    ",'IN_PATIO_DESCOBERTO'\n",
    ",'IN_ALOJAM_ALUNO'\n",
    ",'IN_ALOJAM_PROFESSOR'\n",
    ",'IN_AREA_VERDE'\n",
    ",'IN_LAVANDERIA'\n",
    ",'IN_DEPENDENCIAS_OUTRAS'\n",
    ",'QT_SALAS_EXISTENTES'\n",
    ",'QT_SALAS_UTILIZADAS'\n",
    ",'IN_EQUIP_TV'\n",
    ",'IN_EQUIP_VIDEOCASSETE'\n",
    ",'IN_EQUIP_DVD'\n",
    ",'IN_EQUIP_PARABOLICA'\n",
    ",'IN_EQUIP_COPIADORA'\n",
    ",'IN_EQUIP_RETROPROJETOR'\n",
    ",'IN_EQUIP_IMPRESSORA'\n",
    ",'IN_EQUIP_IMPRESSORA_MULT'\n",
    ",'IN_EQUIP_SOM'\n",
    ",'IN_EQUIP_MULTIMIDIA'\n",
    ",'IN_EQUIP_FAX'\n",
    ",'IN_EQUIP_FOTO'\n",
    ",'IN_COMPUTADOR'\n",
    ",'QT_EQUIP_TV'\n",
    ",'QT_EQUIP_VIDEOCASSETE'\n",
    ",'QT_EQUIP_DVD'\n",
    ",'QT_EQUIP_PARABOLICA'\n",
    ",'QT_EQUIP_COPIADORA'\n",
    ",'QT_EQUIP_RETROPROJETOR'\n",
    ",'QT_EQUIP_IMPRESSORA'\n",
    ",'QT_EQUIP_IMPRESSORA_MULT'\n",
    ",'QT_EQUIP_SOM'\n",
    ",'QT_EQUIP_MULTIMIDIA'\n",
    ",'QT_EQUIP_FAX'\n",
    ",'QT_EQUIP_FOTO'\n",
    ",'QT_COMPUTADOR'\n",
    ",'QT_COMP_ADMINISTRATIVO'\n",
    ",'QT_COMP_ALUNO'\n",
    ",'IN_INTERNET'\n",
    ",'IN_BANDA_LARGA'\n",
    ",'QT_FUNCIONARIOS'\n",
    ",'IN_ALIMENTACAO'\n",
    ",'TP_AEE'\n",
    ",'TP_ATIVIDADE_COMPLEMENTAR'\n",
    ",'IN_FUNDAMENTAL_CICLOS'\n",
    ",'TP_LOCALIZACAO_DIFERENCIADA'\n",
    ",'IN_MATERIAL_ESP_QUILOMBOLA'\n",
    ",'IN_MATERIAL_ESP_INDIGENA'\n",
    ",'IN_MATERIAL_ESP_NAO_UTILIZA'\n",
    ",'IN_EDUCACAO_INDIGENA'\n",
    ",'TP_INDIGENA_LINGUA'\n",
    ",'CO_LINGUA_INDIGENA'\n",
    ",'IN_BRASIL_ALFABETIZADO'\n",
    ",'IN_FINAL_SEMANA'\n",
    ",'IN_FORMACAO_ALTERNANCIA'\n",
    ",'IN_MEDIACAO_PRESENCIAL'\n",
    ",'IN_MEDIACAO_SEMIPRESENCIAL'\n",
    ",'IN_MEDIACAO_EAD'\n",
    ",'IN_ESPECIAL_EXCLUSIVA'\n",
    ",'IN_REGULAR'\n",
    ",'IN_EJA'\n",
    ",'IN_PROFISSIONALIZANTE'\n",
    ",'IN_COMUM_CRECHE'\n",
    ",'IN_COMUM_PRE'\n",
    ",'IN_COMUM_FUND_AI'\n",
    ",'IN_COMUM_FUND_AF'\n",
    ",'IN_COMUM_MEDIO_MEDIO'\n",
    ",'IN_COMUM_MEDIO_INTEGRADO'\n",
    ",'IN_COMUM_MEDIO_NORMAL'\n",
    ",'IN_ESP_EXCLUSIVA_CRECHE'\n",
    ",'IN_ESP_EXCLUSIVA_PRE'\n",
    ",'IN_ESP_EXCLUSIVA_FUND_AI'\n",
    ",'IN_ESP_EXCLUSIVA_FUND_AF'\n",
    ",'IN_ESP_EXCLUSIVA_MEDIO_MEDIO'\n",
    ",'IN_ESP_EXCLUSIVA_MEDIO_INTEGR'\n",
    ",'IN_ESP_EXCLUSIVA_MEDIO_NORMAL'\n",
    ",'IN_COMUM_EJA_FUND'\n",
    ",'IN_COMUM_EJA_MEDIO'\n",
    ",'IN_COMUM_EJA_PROF'\n",
    ",'IN_ESP_EXCLUSIVA_EJA_FUND'\n",
    ",'IN_ESP_EXCLUSIVA_EJA_MEDIO'\n",
    ",'IN_ESP_EXCLUSIVA_EJA_PROF'\n",
    ",'IN_COMUM_PROF'\n",
    ",'IN_ESP_EXCLUSIVA_PROF']\n",
    "print(len(atributos))\n",
    "\n",
    "X = treino_base_LP.loc[:, atributos ].values\n",
    "y = treino_base_LP.loc[:,'ROTULO'].values\n",
    "\n",
    "\n",
    "#df['rotulo'] = list(map(lambda x : 1 if x>300 else 0, df.loc[:,'MEDIA_TOTAL_5EF']))\n",
    "#y = df['rotulo']"
   ]
  },
  {
   "cell_type": "code",
   "execution_count": 6,
   "metadata": {
    "id": "dZhTnrf-ZcwI"
   },
   "outputs": [],
   "source": [
    "# Splitting the dataset into the Training set and Test set\n",
    "\n",
    "from sklearn.model_selection import train_test_split\n",
    "X_Train, X_Test, Y_Train, Y_Test = train_test_split(X, y, test_size = 0.30, random_state = 0)\n"
   ]
  },
  {
   "cell_type": "code",
   "execution_count": 7,
   "metadata": {
    "id": "b44MZlb-Zc7d"
   },
   "outputs": [],
   "source": [
    "# Feature Scaling\n",
    "\n",
    "from sklearn.preprocessing import StandardScaler\n",
    "sc_X = StandardScaler()\n",
    "X_Train = sc_X.fit_transform(X_Train)\n",
    "X_Test = sc_X.transform(X_Test)"
   ]
  },
  {
   "cell_type": "code",
   "execution_count": 8,
   "metadata": {
    "colab": {
     "base_uri": "https://localhost:8080/"
    },
    "id": "O6YJ0dI0Zg5y",
    "outputId": "a28c34b7-c5a3-4a33-b178-225a5e8595b9"
   },
   "outputs": [
    {
     "data": {
      "text/plain": [
       "RandomForestClassifier(bootstrap=True, ccp_alpha=0.0, class_weight=None,\n",
       "                       criterion='entropy', max_depth=None, max_features='auto',\n",
       "                       max_leaf_nodes=None, max_samples=None,\n",
       "                       min_impurity_decrease=0.0, min_impurity_split=None,\n",
       "                       min_samples_leaf=1, min_samples_split=2,\n",
       "                       min_weight_fraction_leaf=0.0, n_estimators=200,\n",
       "                       n_jobs=None, oob_score=False, random_state=0, verbose=0,\n",
       "                       warm_start=False)"
      ]
     },
     "execution_count": 8,
     "metadata": {
      "tags": []
     },
     "output_type": "execute_result"
    }
   ],
   "source": [
    "# Fitting the classifier into the Training set\n",
    "\n",
    "from sklearn.ensemble import RandomForestClassifier\n",
    "classifier = RandomForestClassifier(n_estimators = 200, criterion = 'entropy', random_state = 0)\n",
    "classifier.fit(X_Train,Y_Train)\n"
   ]
  },
  {
   "cell_type": "code",
   "execution_count": 9,
   "metadata": {
    "id": "MTm_JVipZjiv"
   },
   "outputs": [],
   "source": [
    "# Predicting the test set results\n",
    "#%%timeit\n",
    "Y_Pred = classifier.predict(X_Test)\n",
    "\n",
    "# Making the Confusion Matrix \n",
    "\n",
    "from sklearn.metrics import confusion_matrix\n",
    "cm = confusion_matrix(Y_Test, Y_Pred)"
   ]
  },
  {
   "cell_type": "code",
   "execution_count": 10,
   "metadata": {
    "id": "pk1L9TCoZllI"
   },
   "outputs": [],
   "source": [
    "from sklearn.model_selection import cross_val_score\n",
    "from sklearn.model_selection import KFold"
   ]
  },
  {
   "cell_type": "code",
   "execution_count": 11,
   "metadata": {
    "colab": {
     "base_uri": "https://localhost:8080/"
    },
    "id": "slQRHFvDZnOz",
    "outputId": "751e1efc-2fbe-440e-f6e5-eb7358500d65"
   },
   "outputs": [
    {
     "name": "stdout",
     "output_type": "stream",
     "text": [
      "[[3167  373]\n",
      " [ 661 2963]]\n",
      "              precision    recall  f1-score   support\n",
      "\n",
      "           0       0.83      0.89      0.86      3540\n",
      "           1       0.89      0.82      0.85      3624\n",
      "\n",
      "    accuracy                           0.86      7164\n",
      "   macro avg       0.86      0.86      0.86      7164\n",
      "weighted avg       0.86      0.86      0.86      7164\n",
      "\n"
     ]
    }
   ],
   "source": [
    "from sklearn.metrics import classification_report, confusion_matrix\n",
    "print(cm)\n",
    "print(classification_report(Y_Test, Y_Pred))\n",
    "#print(\"\\n Acurácia treinamento : %.2f%%\" %accuracy_score(Y_Test, Y_Pred) * 100)"
   ]
  },
  {
   "cell_type": "code",
   "execution_count": 12,
   "metadata": {
    "id": "xy-XZ-M0I12F"
   },
   "outputs": [],
   "source": [
    "#testando validação cruzada e consequencias do aumento de estimadores na acurácia"
   ]
  },
  {
   "cell_type": "code",
   "execution_count": 13,
   "metadata": {
    "colab": {
     "base_uri": "https://localhost:8080/"
    },
    "id": "RH5ZLOWJI4fk",
    "outputId": "213c797d-1592-4701-bb71-971a65f7c7b4"
   },
   "outputs": [
    {
     "name": "stdout",
     "output_type": "stream",
     "text": [
      "O tempo gasto no cross foi de 418.7699406147003\n"
     ]
    }
   ],
   "source": [
    "from sklearn.model_selection import validation_curve\n",
    "param_range = [10, 50, 100, 200,300,400,500,800,1000,1500]\n",
    "starCross = time.time()\n",
    "crossvalidation = KFold(n_splits=3,shuffle=True,random_state=1)\n",
    "RF_cls = RandomForestClassifier(n_estimators=200,random_state=0)\n",
    "train_scores, test_scores = validation_curve(RF_cls, X, y,\n",
    "'n_estimators',\n",
    "param_range=param_range,\n",
    "cv=crossvalidation,\n",
    "scoring='accuracy')\n",
    "endCross = time.time()\n",
    "print(\"O tempo gasto no cross foi de %s\" %(endCross - starCross))\n",
    "mean_test_scores = np.mean(test_scores, axis=1)"
   ]
  },
  {
   "cell_type": "code",
   "execution_count": 14,
   "metadata": {
    "colab": {
     "base_uri": "https://localhost:8080/",
     "height": 323
    },
    "id": "de6yTrXHI7SX",
    "outputId": "9c127002-93a1-4726-a259-1cdb044b5a6b"
   },
   "outputs": [
    {
     "name": "stdout",
     "output_type": "stream",
     "text": [
      "[0.84256816 0.85454622 0.85609582 0.85852494 0.85798048 0.85806425\n",
      " 0.85802236 0.85802236 0.8577292  0.85777108]\n"
     ]
    },
    {
     "data": {
      "image/png": "[encoded data removed]",
      "text/plain": [
       "<Figure size 432x288 with 1 Axes>"
      ]
     },
     "metadata": {
      "needs_background": "light",
      "tags": []
     },
     "output_type": "display_data"
    }
   ],
   "source": [
    "import matplotlib.pyplot as plt\n",
    "plt.plot(param_range, mean_test_scores,\n",
    "'bD-.', label='CV score')\n",
    "plt.grid()\n",
    "plt.xlabel('Number of estimators')\n",
    "plt.ylabel('accuracy')\n",
    "print(mean_test_scores)\n",
    "plt.legend(loc='lower right', numpoints= 1)\n",
    "plt.show()"
   ]
  },
  {
   "cell_type": "code",
   "execution_count": 15,
   "metadata": {
    "id": "7q9P3y9CI9e0"
   },
   "outputs": [],
   "source": [
    "#testando agora os melhores parâmetros"
   ]
  },
  {
   "cell_type": "code",
   "execution_count": 16,
   "metadata": {
    "colab": {
     "base_uri": "https://localhost:8080/"
    },
    "id": "Jz9d5S9AZFsr",
    "outputId": "ffc9b939-cefe-472c-b850-db3ef644526e"
   },
   "outputs": [
    {
     "name": "stdout",
     "output_type": "stream",
     "text": [
      "Accuracy: 0.858\n"
     ]
    }
   ],
   "source": [
    "crossvalidation = KFold(n_splits=5, shuffle=True,\n",
    "random_state=1)\n",
    "RF_cls = RandomForestClassifier(random_state=1)\n",
    "score = np.mean(cross_val_score(RF_cls, X, y,\n",
    "scoring='accuracy',\n",
    "cv=crossvalidation))\n",
    "print('Accuracy: %.3f' % score)\n",
    "#print('Accuracy: %.3f' % score)\n",
    "scorer = 'accuracy'"
   ]
  },
  {
   "cell_type": "code",
   "execution_count": 17,
   "metadata": {
    "colab": {
     "base_uri": "https://localhost:8080/"
    },
    "id": "0s-iiH02aG4J",
    "outputId": "cea394f8-74b2-42d2-957e-97ab5eb8f0c7"
   },
   "outputs": [
    {
     "name": "stdout",
     "output_type": "stream",
     "text": [
      "Best parameters: {'max_features': 42, 'min_samples_leaf': 1, 'n_estimators': 300}\n",
      "Best accuracy: 0.8589438378629624\n",
      "Tempo gasto no grid foi de : 930.9457719326019\n"
     ]
    }
   ],
   "source": [
    "from sklearn.model_selection import GridSearchCV\n",
    "\n",
    "max_features = [X.shape[1]//3, 'sqrt', 'log2', 'auto']\n",
    "min_samples_leaf = [1, 10, 30]\n",
    "n_estimators = [50, 100, 300]\n",
    "\n",
    "startGrid = time.time()\n",
    "search_grid = {'n_estimators':n_estimators,'max_features': max_features,'min_samples_leaf': min_samples_leaf}\n",
    "search_func = GridSearchCV(estimator=RF_cls, param_grid=search_grid, scoring=scorer, cv=crossvalidation, refit = True )\n",
    "\n",
    "search_func.fit(X,y)\n",
    "\n",
    "endGrid = time.time()\n",
    "best_params = search_func.best_params_\n",
    "best_score = search_func.best_score_\n",
    "\n",
    "print('Best parameters: %s' % best_params)\n",
    "print('Best accuracy: %s' % best_score)\n",
    "print('Tempo gasto no grid foi de : %s' %(endGrid - startGrid))"
   ]
  },
  {
   "cell_type": "code",
   "execution_count": 18,
   "metadata": {
    "colab": {
     "base_uri": "https://localhost:8080/"
    },
    "id": "qekavxAYJKJ-",
    "outputId": "a37ee608-91f0-486e-da14-6a37906cedf6"
   },
   "outputs": [
    {
     "name": "stdout",
     "output_type": "stream",
     "text": [
      "Best accuracy: 85.89438378629623\n"
     ]
    }
   ],
   "source": [
    "print('Best accuracy: %s' % (best_score * 100))\n"
   ]
  },
  {
   "cell_type": "code",
   "execution_count": 19,
   "metadata": {
    "colab": {
     "base_uri": "https://localhost:8080/"
    },
    "id": "vYBrPA-MFMLy",
    "outputId": "95de9fe7-2fbe-4f16-bd85-79f152b8ba88"
   },
   "outputs": [
    {
     "name": "stdout",
     "output_type": "stream",
     "text": [
      "RandomForestClassifier(bootstrap=True, ccp_alpha=0.0, class_weight=None,\n",
      "                       criterion='gini', max_depth=None, max_features=42,\n",
      "                       max_leaf_nodes=None, max_samples=None,\n",
      "                       min_impurity_decrease=0.0, min_impurity_split=None,\n",
      "                       min_samples_leaf=1, min_samples_split=2,\n",
      "                       min_weight_fraction_leaf=0.0, n_estimators=300,\n",
      "                       n_jobs=None, oob_score=False, random_state=1, verbose=0,\n",
      "                       warm_start=False)\n"
     ]
    }
   ],
   "source": [
    "print( search_func.best_estimator_)\n",
    "optimised_random_forest = search_func.best_estimator_"
   ]
  },
  {
   "cell_type": "code",
   "execution_count": 20,
   "metadata": {
    "colab": {
     "base_uri": "https://localhost:8080/"
    },
    "id": "n8NXsQho2X7D",
    "outputId": "ea988d65-670d-46a7-82ff-c741d6df8e37"
   },
   "outputs": [
    {
     "name": "stdout",
     "output_type": "stream",
     "text": [
      "[[3498   42]\n",
      " [2131 1493]]\n",
      "              precision    recall  f1-score   support\n",
      "\n",
      "           0       0.62      0.99      0.76      3540\n",
      "           1       0.97      0.41      0.58      3624\n",
      "\n",
      "    accuracy                           0.70      7164\n",
      "   macro avg       0.80      0.70      0.67      7164\n",
      "weighted avg       0.80      0.70      0.67      7164\n",
      "\n"
     ]
    }
   ],
   "source": [
    "# Predicting the test set results\n",
    "#%%timeit\n",
    "Y_Pred = search_func.best_estimator_.predict(X_Test)\n",
    "\n",
    "# Making the Confusion Matrix \n",
    "\n",
    "from sklearn.metrics import confusion_matrix\n",
    "cm = confusion_matrix(Y_Test, Y_Pred)\n",
    "print(cm)\n",
    "print(classification_report(Y_Test, Y_Pred))"
   ]
  },
  {
   "cell_type": "code",
   "execution_count": 21,
   "metadata": {
    "colab": {
     "base_uri": "https://localhost:8080/"
    },
    "id": "DXZrfuIvJNZm",
    "outputId": "7fb78fd2-b2a3-4e42-d80b-f097dbd93669"
   },
   "outputs": [
    {
     "data": {
      "text/plain": [
       "array([2.86585042e-03, 1.88663916e-02, 5.07883823e-03, 4.00208453e-03,\n",
       "       7.58019173e-04, 6.34345013e-04, 1.78586321e-04, 1.17051781e-04,\n",
       "       8.96720006e-05, 8.01377594e-06, 6.01329269e-02, 2.41314816e-02,\n",
       "       3.82924251e-04, 7.15902180e-03, 6.51777750e-03, 7.03441041e-04,\n",
       "       6.72286981e-03, 6.78389185e-04, 3.51722345e-04, 4.33655311e-03,\n",
       "       2.35948340e-02, 7.79084204e-03, 1.85442499e-03, 4.75884354e-03,\n",
       "       1.90181863e-02, 3.39176549e-03, 3.16777856e-02, 1.04263020e-03,\n",
       "       4.77630395e-03, 4.70998995e-03, 1.33878534e-02, 2.43632532e-02,\n",
       "       2.67558007e-04, 2.62294105e-03, 2.81994536e-03, 4.98758172e-03,\n",
       "       4.90013350e-03, 5.44605649e-03, 4.92666487e-03, 5.61411822e-03,\n",
       "       1.65350392e-02, 4.50824445e-03, 8.08319047e-03, 2.53478869e-03,\n",
       "       5.62306210e-03, 5.38864121e-03, 1.42978639e-04, 2.62754314e-04,\n",
       "       4.98758765e-03, 4.30073747e-03, 8.09057681e-05, 1.91836430e-02,\n",
       "       2.15384500e-02, 2.00488379e-03, 2.88657788e-03, 3.22506526e-03,\n",
       "       3.80557179e-03, 5.37471844e-03, 5.70643314e-03, 4.01645568e-03,\n",
       "       4.46519015e-03, 6.19781945e-03, 5.30883615e-03, 2.76788515e-03,\n",
       "       5.81114950e-03, 1.71578569e-03, 2.06867390e-02, 3.62513144e-03,\n",
       "       1.37300021e-02, 4.26108528e-03, 8.47488426e-03, 6.23353260e-03,\n",
       "       1.87636033e-02, 1.16923183e-02, 3.47155927e-02, 1.82189831e-02,\n",
       "       3.60359877e-03, 1.52815471e-02, 7.69646105e-02, 9.32757239e-02,\n",
       "       4.14685800e-02, 2.16338600e-02, 3.40878726e-02, 2.54917346e-02,\n",
       "       1.48729443e-04, 4.50165641e-03, 6.30662319e-03, 7.14241863e-03,\n",
       "       3.02131017e-03, 4.72659810e-04, 1.90610660e-04, 9.73753298e-04,\n",
       "       1.13310004e-04, 1.12441867e-04, 5.44462996e-05, 1.32349155e-03,\n",
       "       7.54642063e-03, 2.95750740e-04, 2.30155105e-04, 8.41404708e-05,\n",
       "       0.00000000e+00, 7.31479150e-04, 1.57879573e-04, 1.06071583e-02,\n",
       "       2.16063346e-04, 4.63493906e-03, 5.91675802e-03, 7.63456016e-04,\n",
       "       1.32332342e-02, 1.53763151e-03, 5.61213869e-05, 1.29969267e-04,\n",
       "       1.32298751e-05, 5.83285243e-06, 5.29248070e-04, 5.10159447e-05,\n",
       "       0.00000000e+00, 0.00000000e+00, 0.00000000e+00, 1.33672280e-02,\n",
       "       8.74992248e-04, 8.28562300e-05, 1.44569433e-04, 0.00000000e+00,\n",
       "       0.00000000e+00, 9.49524711e-05, 0.00000000e+00])"
      ]
     },
     "execution_count": 21,
     "metadata": {
      "tags": []
     },
     "output_type": "execute_result"
    }
   ],
   "source": [
    "RF_cls.fit(X_Train, Y_Train)# Mostrando importância de cada feature\n",
    "RF_cls.feature_importances_"
   ]
  },
  {
   "cell_type": "code",
   "execution_count": 22,
   "metadata": {
    "colab": {
     "base_uri": "https://localhost:8080/",
     "height": 287
    },
    "id": "A8OkqToxJN28",
    "outputId": "519420e5-19c3-44ff-ead1-0ebda1d35c5a"
   },
   "outputs": [
    {
     "data": {
      "text/plain": [
       "<matplotlib.axes._subplots.AxesSubplot at 0x7f549311c950>"
      ]
     },
     "execution_count": 22,
     "metadata": {
      "tags": []
     },
     "output_type": "execute_result"
    },
    {
     "data": {
      "image/png": "[encoded data removed]",
      "text/plain": [
       "<Figure size 432x288 with 1 Axes>"
      ]
     },
     "metadata": {
      "needs_background": "light",
      "tags": []
     },
     "output_type": "display_data"
    }
   ],
   "source": [
    "importances = pd.Series(RF_cls.feature_importances_, atributos)\n",
    "importances.nlargest(25).plot(kind='barh')"
   ]
  },
  {
   "cell_type": "code",
   "execution_count": 24,
   "metadata": {
    "colab": {
     "base_uri": "https://localhost:8080/"
    },
    "id": "C2W7KjXKyPba",
    "outputId": "7ff20c1d-a33a-4ea3-cb8e-baa45d7f2a21"
   },
   "outputs": [
    {
     "data": {
      "text/plain": [
       "KNeighborsClassifier(algorithm='auto', leaf_size=30, metric='minkowski',\n",
       "                     metric_params=None, n_jobs=None, n_neighbors=5, p=2,\n",
       "                     weights='uniform')"
      ]
     },
     "execution_count": 24,
     "metadata": {
      "tags": []
     },
     "output_type": "execute_result"
    }
   ],
   "source": [
    "#Importando o modelo KNN\n",
    "from sklearn.neighbors import KNeighborsClassifier  \n",
    "\n",
    "# Definindo o valor de visinhos\n",
    "classifier = KNeighborsClassifier(n_neighbors=5)  \n",
    "\n",
    "#Treinando o modelo, com dados de treinamento\n",
    "classifier.fit(X_Train, Y_Train) "
   ]
  },
  {
   "cell_type": "code",
   "execution_count": 25,
   "metadata": {
    "id": "EPFt5JJUyQk-"
   },
   "outputs": [],
   "source": [
    "#### Prevendo os valores de Y para os dados de teste (X_test)\n",
    "y_pred = classifier.predict(X_Test) "
   ]
  },
  {
   "cell_type": "code",
   "execution_count": 27,
   "metadata": {
    "colab": {
     "base_uri": "https://localhost:8080/"
    },
    "id": "CAhmZjvvyR0F",
    "outputId": "7d2ac794-b6f8-44b8-83ef-e7757fc1327c"
   },
   "outputs": [
    {
     "name": "stdout",
     "output_type": "stream",
     "text": [
      "Matriz Confusa: \n",
      "[[3498   42]\n",
      " [2131 1493]] \n",
      "\n",
      "Relatório de classificação: \n",
      "               precision    recall  f1-score   support\n",
      "\n",
      "           0       0.62      0.99      0.76      3540\n",
      "           1       0.97      0.41      0.58      3624\n",
      "\n",
      "    accuracy                           0.70      7164\n",
      "   macro avg       0.80      0.70      0.67      7164\n",
      "weighted avg       0.80      0.70      0.67      7164\n",
      "\n",
      "Acurácia do modelo:  0.696677833612507\n"
     ]
    }
   ],
   "source": [
    "# Importando métricas para validação do modelo\n",
    "from sklearn.metrics import classification_report, confusion_matrix, accuracy_score\n",
    "\n",
    "# Imprimindo a matriz confusa\n",
    "print(\"Matriz Confusa: \")\n",
    "print(confusion_matrix(Y_Test, Y_Pred), \"\\n\")  \n",
    "\n",
    "# Imprimindo o relatório de classificação\n",
    "print(\"Relatório de classificação: \\n\", classification_report(Y_Test, Y_Pred))  \n",
    "\n",
    "\n",
    "# Imprimindo o quão acurado foi o modelo\n",
    "print('Acurácia do modelo: ' , accuracy_score(Y_Test, Y_Pred))"
   ]
  },
  {
   "cell_type": "code",
   "execution_count": 30,
   "metadata": {
    "id": "IgyXSdvmyTj3"
   },
   "outputs": [],
   "source": [
    "from sklearn.naive_bayes import GaussianNB\n",
    "import numpy as np"
   ]
  },
  {
   "cell_type": "code",
   "execution_count": 34,
   "metadata": {
    "colab": {
     "base_uri": "https://localhost:8080/"
    },
    "id": "EBdloV-oyVhF",
    "outputId": "e5a125ee-e8df-4a9c-aedd-f7a4c9bb203b"
   },
   "outputs": [
    {
     "name": "stdout",
     "output_type": "stream",
     "text": [
      "[0 1 0 ... 0 0 1]\n",
      "Matriz Confusa: \n",
      "[[3498   42]\n",
      " [2131 1493]] \n",
      "\n",
      "Relatório de classificação: \n",
      "               precision    recall  f1-score   support\n",
      "\n",
      "           0       0.62      0.99      0.76      3540\n",
      "           1       0.97      0.41      0.58      3624\n",
      "\n",
      "    accuracy                           0.70      7164\n",
      "   macro avg       0.80      0.70      0.67      7164\n",
      "weighted avg       0.80      0.70      0.67      7164\n",
      "\n",
      "Acurácia do modelo:  0.696677833612507\n"
     ]
    }
   ],
   "source": [
    "#Cria um classificador Gaussiano\n",
    "model = GaussianNB()\n",
    "\n",
    "#Treina o modelo usando os dados de treino \n",
    "model.fit(X, y)\n",
    "\n",
    "#Resultado de previsão \n",
    "predicted= model.predict(X_Test)\n",
    "print(predicted)\n",
    "\n",
    "# Importando métricas para validação do modelo\n",
    "from sklearn.metrics import classification_report, confusion_matrix, accuracy_score\n",
    "\n",
    "# Imprimindo a matriz confusa\n",
    "print(\"Matriz Confusa: \")\n",
    "print(confusion_matrix(Y_Test, Y_Pred), \"\\n\")  \n",
    "\n",
    "# Imprimindo o relatório de classificação\n",
    "print(\"Relatório de classificação: \\n\", classification_report(Y_Test, Y_Pred))  \n",
    "\n",
    "\n",
    "# Imprimindo o quão acurado foi o modelo\n",
    "print('Acurácia do modelo: ' , accuracy_score(Y_Test, Y_Pred))"
   ]
  }
 ],
 "metadata": {
  "colab": {
   "collapsed_sections": [],
   "name": "testerandomentrega1311SemAtributoRegiaoSemTxPartic.ipynb",
   "provenance": []
  },
  "kernelspec": {
   "display_name": "Python 3",
   "language": "python",
   "name": "python3"
  },
  "language_info": {
   "codemirror_mode": {
    "name": "ipython",
    "version": 3
   },
   "file_extension": ".py",
   "mimetype": "text/x-python",
   "name": "python",
   "nbconvert_exporter": "python",
   "pygments_lexer": "ipython3",
   "version": "3.7.3"
  }
 },
 "nbformat": 4,
 "nbformat_minor": 1
}
